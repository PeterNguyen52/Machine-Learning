{
 "cells": [
  {
   "cell_type": "markdown",
   "metadata": {
    "button": false,
    "colab_type": "text",
    "id": "SzPE54CYM1kJ",
    "new_sheet": false,
    "run_control": {
     "read_only": false
    }
   },
   "source": [
    "<h1 align=center><font size = 10> Classification with Python</font></h1>"
   ]
  },
  {
   "cell_type": "markdown",
   "metadata": {
    "button": false,
    "colab_type": "text",
    "id": "XPfbiVLfM1kK",
    "new_sheet": false,
    "run_control": {
     "read_only": false
    }
   },
   "source": [
    "In this notebook, we try to practice all the classification algorithms that we have learned in this course.\n",
    "\n",
    "We load a dataset using the Pandas library, and apply the following algorithms, and find the best one for this specific dataset by accuracy evaluation methods.\n",
    "\n",
    "Lets first load required libraries:"
   ]
  },
  {
   "cell_type": "code",
   "execution_count": 1,
   "metadata": {
    "button": false,
    "colab": {},
    "colab_type": "code",
    "id": "vcBmcLcqM1kL",
    "new_sheet": false,
    "run_control": {
     "read_only": false
    }
   },
   "outputs": [],
   "source": [
    "import matplotlib.pyplot as plt\n",
    "from matplotlib.ticker import NullFormatter\n",
    "import pandas as pd\n",
    "import numpy as np\n",
    "import matplotlib.ticker as ticker\n",
    "from sklearn import preprocessing\n",
    "%matplotlib inline"
   ]
  },
  {
   "cell_type": "markdown",
   "metadata": {
    "colab_type": "text",
    "id": "PKehb7okM1kN"
   },
   "source": [
    "# Mandatory part (85%  of the total score)"
   ]
  },
  {
   "cell_type": "markdown",
   "metadata": {
    "button": false,
    "colab_type": "text",
    "id": "ZAL75IefM1kO",
    "new_sheet": false,
    "run_control": {
     "read_only": false
    }
   },
   "source": [
    "## About dataset"
   ]
  },
  {
   "cell_type": "markdown",
   "metadata": {
    "button": false,
    "colab_type": "text",
    "id": "yrPdRO--M1kO",
    "new_sheet": false,
    "run_control": {
     "read_only": false
    }
   },
   "source": [
    "The Pima is a group of Native Americans living in Arizona. A genetic predisposition allowed this group to survive normally to a diet poor of carbohydrates for years. In recent years, a sudden shift from traditional agricultural crops to processed foods, together with a decline in physical activity, has made them develop the highest prevalence of type 2 diabetes and for this reason, they have been subject of many studies.\n",
    "\n",
    "The dataset includes data from 768 women with 8 characteristics, in particular:\n",
    "\n",
    "- Number of times pregnant\n",
    "- Plasma glucose concentration a 2 hours in an oral glucose tolerance test\n",
    "- Diastolic blood pressure (mm Hg)\n",
    "- Triceps skinfold thickness (mm)\n",
    "- 2-Hour serum insulin (mu U/ml)\n",
    "- Body mass index (weight in kg/(height in m)^2)\n",
    "- Diabetes pedigree function\n",
    "- Age (years)\n",
    "- The last column of the dataset indicates if the person has been diagnosed with diabetes (1) or not (0)"
   ]
  },
  {
   "cell_type": "markdown",
   "metadata": {
    "colab_type": "text",
    "id": "dzJFrqwyM1kP"
   },
   "source": [
    "## The problem:"
   ]
  },
  {
   "cell_type": "markdown",
   "metadata": {
    "colab_type": "text",
    "id": "WFl47FBcM1kQ"
   },
   "source": [
    "The type of dataset and problem is a classic supervised binary classification. Given a number of elements with certain characteristics (features), we want to build a machine learning model to identify people affected by type 2 diabetes.\n",
    "\n",
    "To solve the problem we will have to analyze the data, do any required transformation and nomarlization, apply a machine learning algorithm, train a model, check the performance of the trained model and iterate with other algorithms until we find the most performant for our type of dataset."
   ]
  },
  {
   "cell_type": "markdown",
   "metadata": {
    "button": false,
    "colab_type": "text",
    "id": "Diy5tSZ7M1kQ",
    "new_sheet": false,
    "run_control": {
     "read_only": false
    }
   },
   "source": [
    "## Load Data From CSV File  "
   ]
  },
  {
   "cell_type": "markdown",
   "metadata": {
    "colab_type": "text",
    "id": "qdIctwmZM1kR"
   },
   "source": [
    "### 1. Load the dataset from the 'pima-indians-diabetes.csv' file.\n",
    "\n",
    "Because the CSV doesn't contain any header, we add column names using the description from the original dataset website:\n",
    "\n",
    "dataset.columns = [\"NumTimesPrg\", \"PlGlcConc\", \"BloodP\", \"SkinThick\", \"TwoHourSerIns\", \"BMI\", \"DiPedFunc\", \"Age\", \"HasDiabetes\"]"
   ]
  },
  {
   "cell_type": "code",
   "execution_count": 2,
   "metadata": {
    "button": false,
    "colab": {},
    "colab_type": "code",
    "id": "K-TmhZ8vM1kS",
    "new_sheet": false,
    "run_control": {
     "read_only": false
    }
   },
   "outputs": [
    {
     "data": {
      "text/html": [
       "<div>\n",
       "<style scoped>\n",
       "    .dataframe tbody tr th:only-of-type {\n",
       "        vertical-align: middle;\n",
       "    }\n",
       "\n",
       "    .dataframe tbody tr th {\n",
       "        vertical-align: top;\n",
       "    }\n",
       "\n",
       "    .dataframe thead th {\n",
       "        text-align: right;\n",
       "    }\n",
       "</style>\n",
       "<table border=\"1\" class=\"dataframe\">\n",
       "  <thead>\n",
       "    <tr style=\"text-align: right;\">\n",
       "      <th></th>\n",
       "      <th>NumTimesPrg</th>\n",
       "      <th>PlGlcConc</th>\n",
       "      <th>BloodP</th>\n",
       "      <th>SkinThick</th>\n",
       "      <th>TwoHourSerIns</th>\n",
       "      <th>BMI</th>\n",
       "      <th>DiPedFunc</th>\n",
       "      <th>Age</th>\n",
       "      <th>HasDiabetes</th>\n",
       "    </tr>\n",
       "  </thead>\n",
       "  <tbody>\n",
       "    <tr>\n",
       "      <th>0</th>\n",
       "      <td>6</td>\n",
       "      <td>148</td>\n",
       "      <td>72</td>\n",
       "      <td>35</td>\n",
       "      <td>0</td>\n",
       "      <td>33.6</td>\n",
       "      <td>0.627</td>\n",
       "      <td>50</td>\n",
       "      <td>1</td>\n",
       "    </tr>\n",
       "    <tr>\n",
       "      <th>1</th>\n",
       "      <td>1</td>\n",
       "      <td>85</td>\n",
       "      <td>66</td>\n",
       "      <td>29</td>\n",
       "      <td>0</td>\n",
       "      <td>26.6</td>\n",
       "      <td>0.351</td>\n",
       "      <td>31</td>\n",
       "      <td>0</td>\n",
       "    </tr>\n",
       "    <tr>\n",
       "      <th>2</th>\n",
       "      <td>8</td>\n",
       "      <td>183</td>\n",
       "      <td>64</td>\n",
       "      <td>0</td>\n",
       "      <td>0</td>\n",
       "      <td>23.3</td>\n",
       "      <td>0.672</td>\n",
       "      <td>32</td>\n",
       "      <td>1</td>\n",
       "    </tr>\n",
       "    <tr>\n",
       "      <th>3</th>\n",
       "      <td>1</td>\n",
       "      <td>89</td>\n",
       "      <td>66</td>\n",
       "      <td>23</td>\n",
       "      <td>94</td>\n",
       "      <td>28.1</td>\n",
       "      <td>0.167</td>\n",
       "      <td>21</td>\n",
       "      <td>0</td>\n",
       "    </tr>\n",
       "    <tr>\n",
       "      <th>4</th>\n",
       "      <td>0</td>\n",
       "      <td>137</td>\n",
       "      <td>40</td>\n",
       "      <td>35</td>\n",
       "      <td>168</td>\n",
       "      <td>43.1</td>\n",
       "      <td>2.288</td>\n",
       "      <td>33</td>\n",
       "      <td>1</td>\n",
       "    </tr>\n",
       "  </tbody>\n",
       "</table>\n",
       "</div>"
      ],
      "text/plain": [
       "   NumTimesPrg  PlGlcConc  BloodP  SkinThick  TwoHourSerIns   BMI  DiPedFunc  \\\n",
       "0            6        148      72         35              0  33.6      0.627   \n",
       "1            1         85      66         29              0  26.6      0.351   \n",
       "2            8        183      64          0              0  23.3      0.672   \n",
       "3            1         89      66         23             94  28.1      0.167   \n",
       "4            0        137      40         35            168  43.1      2.288   \n",
       "\n",
       "   Age  HasDiabetes  \n",
       "0   50            1  \n",
       "1   31            0  \n",
       "2   32            1  \n",
       "3   21            0  \n",
       "4   33            1  "
      ]
     },
     "execution_count": 2,
     "metadata": {},
     "output_type": "execute_result"
    }
   ],
   "source": [
    "columns_name = [\"NumTimesPrg\", \"PlGlcConc\", \"BloodP\", \"SkinThick\", \"TwoHourSerIns\", \"BMI\", \"DiPedFunc\", \"Age\", \"HasDiabetes\"]\n",
    "df = pd.read_csv(\"pima-indians-diabetes.csv\", names = columns_name)\n",
    "df.head()"
   ]
  },
  {
   "cell_type": "markdown",
   "metadata": {
    "button": false,
    "colab_type": "text",
    "id": "AmBhwo0DM1kU",
    "new_sheet": false,
    "run_control": {
     "read_only": false
    }
   },
   "source": [
    "## Inspect the Dataset"
   ]
  },
  {
   "cell_type": "markdown",
   "metadata": {
    "colab_type": "text",
    "id": "_HlgbaIQM1kU"
   },
   "source": [
    "### 2. Print out the shape of the dataset: we have 768 rows and 9 columns. Then, print out the head of the dataset to better understand the data format.\n",
    "\n",
    "The first 8 columns are features while the last one is the supervised label (1 = has diabetes, 0 = no diabetes)"
   ]
  },
  {
   "cell_type": "code",
   "execution_count": 3,
   "metadata": {},
   "outputs": [
    {
     "data": {
      "text/plain": [
       "(768, 9)"
      ]
     },
     "execution_count": 3,
     "metadata": {},
     "output_type": "execute_result"
    }
   ],
   "source": [
    "df.shape"
   ]
  },
  {
   "cell_type": "markdown",
   "metadata": {
    "button": false,
    "colab_type": "text",
    "id": "a02T2r1XM1kY",
    "new_sheet": false,
    "run_control": {
     "read_only": false
    }
   },
   "source": [
    "# Data visualization and pre-processing\n",
    "\n"
   ]
  },
  {
   "cell_type": "markdown",
   "metadata": {
    "button": false,
    "colab_type": "text",
    "id": "WyisS4NVM1kZ",
    "new_sheet": false,
    "run_control": {
     "read_only": false
    }
   },
   "source": [
    "## Data correlation matrix\n",
    "### 3. Let's calculate the correlation matrix for our dataset.\n",
    "\n",
    "The correlation matrix is an important tool to understand the correlation between the different characteristics. The values range from -1 to 1 and the closer a value is to 1 the better correlation there is between two characteristics. "
   ]
  },
  {
   "cell_type": "code",
   "execution_count": 4,
   "metadata": {},
   "outputs": [
    {
     "data": {
      "text/html": [
       "<div>\n",
       "<style scoped>\n",
       "    .dataframe tbody tr th:only-of-type {\n",
       "        vertical-align: middle;\n",
       "    }\n",
       "\n",
       "    .dataframe tbody tr th {\n",
       "        vertical-align: top;\n",
       "    }\n",
       "\n",
       "    .dataframe thead th {\n",
       "        text-align: right;\n",
       "    }\n",
       "</style>\n",
       "<table border=\"1\" class=\"dataframe\">\n",
       "  <thead>\n",
       "    <tr style=\"text-align: right;\">\n",
       "      <th></th>\n",
       "      <th>NumTimesPrg</th>\n",
       "      <th>PlGlcConc</th>\n",
       "      <th>BloodP</th>\n",
       "      <th>SkinThick</th>\n",
       "      <th>TwoHourSerIns</th>\n",
       "      <th>BMI</th>\n",
       "      <th>DiPedFunc</th>\n",
       "      <th>Age</th>\n",
       "      <th>HasDiabetes</th>\n",
       "    </tr>\n",
       "  </thead>\n",
       "  <tbody>\n",
       "    <tr>\n",
       "      <th>NumTimesPrg</th>\n",
       "      <td>1.000000</td>\n",
       "      <td>0.129459</td>\n",
       "      <td>0.141282</td>\n",
       "      <td>-0.081672</td>\n",
       "      <td>-0.073535</td>\n",
       "      <td>0.017683</td>\n",
       "      <td>-0.033523</td>\n",
       "      <td>0.544341</td>\n",
       "      <td>0.221898</td>\n",
       "    </tr>\n",
       "    <tr>\n",
       "      <th>PlGlcConc</th>\n",
       "      <td>0.129459</td>\n",
       "      <td>1.000000</td>\n",
       "      <td>0.152590</td>\n",
       "      <td>0.057328</td>\n",
       "      <td>0.331357</td>\n",
       "      <td>0.221071</td>\n",
       "      <td>0.137337</td>\n",
       "      <td>0.263514</td>\n",
       "      <td>0.466581</td>\n",
       "    </tr>\n",
       "    <tr>\n",
       "      <th>BloodP</th>\n",
       "      <td>0.141282</td>\n",
       "      <td>0.152590</td>\n",
       "      <td>1.000000</td>\n",
       "      <td>0.207371</td>\n",
       "      <td>0.088933</td>\n",
       "      <td>0.281805</td>\n",
       "      <td>0.041265</td>\n",
       "      <td>0.239528</td>\n",
       "      <td>0.065068</td>\n",
       "    </tr>\n",
       "    <tr>\n",
       "      <th>SkinThick</th>\n",
       "      <td>-0.081672</td>\n",
       "      <td>0.057328</td>\n",
       "      <td>0.207371</td>\n",
       "      <td>1.000000</td>\n",
       "      <td>0.436783</td>\n",
       "      <td>0.392573</td>\n",
       "      <td>0.183928</td>\n",
       "      <td>-0.113970</td>\n",
       "      <td>0.074752</td>\n",
       "    </tr>\n",
       "    <tr>\n",
       "      <th>TwoHourSerIns</th>\n",
       "      <td>-0.073535</td>\n",
       "      <td>0.331357</td>\n",
       "      <td>0.088933</td>\n",
       "      <td>0.436783</td>\n",
       "      <td>1.000000</td>\n",
       "      <td>0.197859</td>\n",
       "      <td>0.185071</td>\n",
       "      <td>-0.042163</td>\n",
       "      <td>0.130548</td>\n",
       "    </tr>\n",
       "    <tr>\n",
       "      <th>BMI</th>\n",
       "      <td>0.017683</td>\n",
       "      <td>0.221071</td>\n",
       "      <td>0.281805</td>\n",
       "      <td>0.392573</td>\n",
       "      <td>0.197859</td>\n",
       "      <td>1.000000</td>\n",
       "      <td>0.140647</td>\n",
       "      <td>0.036242</td>\n",
       "      <td>0.292695</td>\n",
       "    </tr>\n",
       "    <tr>\n",
       "      <th>DiPedFunc</th>\n",
       "      <td>-0.033523</td>\n",
       "      <td>0.137337</td>\n",
       "      <td>0.041265</td>\n",
       "      <td>0.183928</td>\n",
       "      <td>0.185071</td>\n",
       "      <td>0.140647</td>\n",
       "      <td>1.000000</td>\n",
       "      <td>0.033561</td>\n",
       "      <td>0.173844</td>\n",
       "    </tr>\n",
       "    <tr>\n",
       "      <th>Age</th>\n",
       "      <td>0.544341</td>\n",
       "      <td>0.263514</td>\n",
       "      <td>0.239528</td>\n",
       "      <td>-0.113970</td>\n",
       "      <td>-0.042163</td>\n",
       "      <td>0.036242</td>\n",
       "      <td>0.033561</td>\n",
       "      <td>1.000000</td>\n",
       "      <td>0.238356</td>\n",
       "    </tr>\n",
       "    <tr>\n",
       "      <th>HasDiabetes</th>\n",
       "      <td>0.221898</td>\n",
       "      <td>0.466581</td>\n",
       "      <td>0.065068</td>\n",
       "      <td>0.074752</td>\n",
       "      <td>0.130548</td>\n",
       "      <td>0.292695</td>\n",
       "      <td>0.173844</td>\n",
       "      <td>0.238356</td>\n",
       "      <td>1.000000</td>\n",
       "    </tr>\n",
       "  </tbody>\n",
       "</table>\n",
       "</div>"
      ],
      "text/plain": [
       "               NumTimesPrg  PlGlcConc    BloodP  SkinThick  TwoHourSerIns  \\\n",
       "NumTimesPrg       1.000000   0.129459  0.141282  -0.081672      -0.073535   \n",
       "PlGlcConc         0.129459   1.000000  0.152590   0.057328       0.331357   \n",
       "BloodP            0.141282   0.152590  1.000000   0.207371       0.088933   \n",
       "SkinThick        -0.081672   0.057328  0.207371   1.000000       0.436783   \n",
       "TwoHourSerIns    -0.073535   0.331357  0.088933   0.436783       1.000000   \n",
       "BMI               0.017683   0.221071  0.281805   0.392573       0.197859   \n",
       "DiPedFunc        -0.033523   0.137337  0.041265   0.183928       0.185071   \n",
       "Age               0.544341   0.263514  0.239528  -0.113970      -0.042163   \n",
       "HasDiabetes       0.221898   0.466581  0.065068   0.074752       0.130548   \n",
       "\n",
       "                    BMI  DiPedFunc       Age  HasDiabetes  \n",
       "NumTimesPrg    0.017683  -0.033523  0.544341     0.221898  \n",
       "PlGlcConc      0.221071   0.137337  0.263514     0.466581  \n",
       "BloodP         0.281805   0.041265  0.239528     0.065068  \n",
       "SkinThick      0.392573   0.183928 -0.113970     0.074752  \n",
       "TwoHourSerIns  0.197859   0.185071 -0.042163     0.130548  \n",
       "BMI            1.000000   0.140647  0.036242     0.292695  \n",
       "DiPedFunc      0.140647   1.000000  0.033561     0.173844  \n",
       "Age            0.036242   0.033561  1.000000     0.238356  \n",
       "HasDiabetes    0.292695   0.173844  0.238356     1.000000  "
      ]
     },
     "execution_count": 4,
     "metadata": {},
     "output_type": "execute_result"
    }
   ],
   "source": [
    "df.corr()"
   ]
  },
  {
   "cell_type": "markdown",
   "metadata": {
    "colab_type": "text",
    "id": "Q0YpKuUBM1kb"
   },
   "source": [
    "### 4. Render the corr matrix using the heatmap in seaborn."
   ]
  },
  {
   "cell_type": "code",
   "execution_count": 5,
   "metadata": {},
   "outputs": [
    {
     "data": {
      "text/plain": [
       "<matplotlib.axes._subplots.AxesSubplot at 0x1248e06e948>"
      ]
     },
     "execution_count": 5,
     "metadata": {},
     "output_type": "execute_result"
    },
    {
     "data": {
      "image/png": "[encoded data removed]",
      "text/plain": [
       "<Figure size 648x432 with 2 Axes>"
      ]
     },
     "metadata": {
      "needs_background": "light"
     },
     "output_type": "display_data"
    }
   ],
   "source": [
    "import seaborn as sns\n",
    "plt.figure(figsize=(9,6))\n",
    "sns.heatmap(df.corr(),\n",
    "            vmin=-1,\n",
    "            cmap='coolwarm',\n",
    "            annot=True)"
   ]
  },
  {
   "cell_type": "markdown",
   "metadata": {
    "colab_type": "text",
    "id": "r7DgicVOM1ke"
   },
   "source": [
    "### 5. Print out the column which has the biggest corr number with 'HasDiabetes'."
   ]
  },
  {
   "cell_type": "code",
   "execution_count": 6,
   "metadata": {},
   "outputs": [],
   "source": [
    "corr = {}\n",
    "for i in range(0, len(df.columns)-1):\n",
    "    a = df.iloc[:,i].corr(df['HasDiabetes'])\n",
    "    corr[i] = a\n",
    "b = sorted(corr.items(), key= lambda x: x[1], reverse = True)"
   ]
  },
  {
   "cell_type": "code",
   "execution_count": 7,
   "metadata": {},
   "outputs": [
    {
     "data": {
      "text/plain": [
       "0      148\n",
       "1       85\n",
       "2      183\n",
       "3       89\n",
       "4      137\n",
       "      ... \n",
       "763    101\n",
       "764    122\n",
       "765    121\n",
       "766    126\n",
       "767     93\n",
       "Name: PlGlcConc, Length: 768, dtype: int64"
      ]
     },
     "execution_count": 7,
     "metadata": {},
     "output_type": "execute_result"
    }
   ],
   "source": [
    "df.iloc[:,b[0][0]]"
   ]
  },
  {
   "cell_type": "markdown",
   "metadata": {
    "colab_type": "text",
    "id": "gZ5Msu8UM1kg"
   },
   "source": [
    "## Visualize the Dataset\n",
    "Visualizing the data is an important step of the data analysis. With a graphical visualization of the data, we have a better understanding of the various features values distribution: for example, we can understand the average age of the people or the average BMI, etc...\n",
    "\n",
    "We could, of course, limit our inspection to the table visualization, but we could miss important things that may affect our model precision.\n",
    "### 6. Manipulate histogram to represent all data columns in the dataset."
   ]
  },
  {
   "cell_type": "code",
   "execution_count": 8,
   "metadata": {},
   "outputs": [
    {
     "data": {
      "image/png": "[encoded data removed]",
      "text/plain": [
       "<Figure size 1440x1080 with 9 Axes>"
      ]
     },
     "metadata": {
      "needs_background": "light"
     },
     "output_type": "display_data"
    }
   ],
   "source": [
    "df.hist(bins=50, figsize=(20, 15))\n",
    "plt.show()"
   ]
  },
  {
   "cell_type": "code",
   "execution_count": 9,
   "metadata": {},
   "outputs": [],
   "source": [
    "df1 = df.copy()"
   ]
  },
  {
   "cell_type": "code",
   "execution_count": 10,
   "metadata": {},
   "outputs": [
    {
     "data": {
      "image/png": "[encoded data removed]",
      "text/plain": [
       "<Figure size 1440x1080 with 9 Axes>"
      ]
     },
     "metadata": {
      "needs_background": "light"
     },
     "output_type": "display_data"
    }
   ],
   "source": [
    "df1.hist(bins=50, figsize=(20, 15))\n",
    "plt.show()"
   ]
  },
  {
   "cell_type": "markdown",
   "metadata": {
    "button": false,
    "colab_type": "text",
    "id": "VYSkabikM1kj",
    "new_sheet": false,
    "run_control": {
     "read_only": false
    }
   },
   "source": [
    "An important thing I notice in the dataset (and that wasn't obvious at the beginning) is the fact that some people have null (zero) values for some of the features: it's not quite possible to have 0 for BMI or the blood pressure.\n",
    "\n",
    "How can we deal with similar values? We will see it later during the data transformation phase."
   ]
  },
  {
   "cell_type": "markdown",
   "metadata": {
    "button": false,
    "colab_type": "text",
    "id": "si5Fgks4M1kj",
    "new_sheet": false,
    "run_control": {
     "read_only": false
    }
   },
   "source": [
    "## Data cleaning and transformation"
   ]
  },
  {
   "cell_type": "markdown",
   "metadata": {
    "button": false,
    "colab_type": "text",
    "id": "ZDAqJwOaM1kk",
    "new_sheet": false,
    "run_control": {
     "read_only": false
    }
   },
   "source": [
    "We have noticed from the previous analysis that some patients have missing data for some of the features. Machine learning algorithms don't work very well when the data are missing so we have to find a solution to \"clean\" the data we have.\n",
    "\n",
    "The easiest option could be to eliminate all those patients with null/zero values, but in this way, we would eliminate a lot of important data.\n",
    "\n",
    "Another option is to calculate the median value for a specific column and substitute that value everywhere (in the same column) we have zero or null. Let's see how to apply this second method.\n",
    "\n",
    "### 7. Interpolate missing values on ['BMI', 'BloodP', 'PlGlcConc', 'SkinThick',  'TwoHourSerIns'] using median values or any other way which is effective.\n",
    "\n",
    "We haven't transformed all the columns, because of some values which can make sense to be zero (like \"Number of times pregnant\")."
   ]
  },
  {
   "cell_type": "code",
   "execution_count": 11,
   "metadata": {},
   "outputs": [
    {
     "data": {
      "text/plain": [
       "NumTimesPrg      0\n",
       "PlGlcConc        0\n",
       "BloodP           0\n",
       "SkinThick        0\n",
       "TwoHourSerIns    0\n",
       "BMI              0\n",
       "DiPedFunc        0\n",
       "Age              0\n",
       "HasDiabetes      0\n",
       "dtype: int64"
      ]
     },
     "execution_count": 11,
     "metadata": {},
     "output_type": "execute_result"
    }
   ],
   "source": [
    "df.isnull().sum()"
   ]
  },
  {
   "cell_type": "code",
   "execution_count": 12,
   "metadata": {},
   "outputs": [
    {
     "data": {
      "text/plain": [
       "231"
      ]
     },
     "execution_count": 12,
     "metadata": {},
     "output_type": "execute_result"
    }
   ],
   "source": [
    "df['SkinThick'][df['SkinThick'] < 10].count()"
   ]
  },
  {
   "cell_type": "code",
   "execution_count": 13,
   "metadata": {},
   "outputs": [
    {
     "data": {
      "text/plain": [
       "231"
      ]
     },
     "execution_count": 13,
     "metadata": {},
     "output_type": "execute_result"
    }
   ],
   "source": [
    "df1['SkinThick'][df1['SkinThick'] < 10].count()"
   ]
  },
  {
   "cell_type": "code",
   "execution_count": 14,
   "metadata": {},
   "outputs": [
    {
     "name": "stderr",
     "output_type": "stream",
     "text": [
      "C:\\Users\\Admin\\anaconda3\\lib\\site-packages\\ipykernel_launcher.py:1: SettingWithCopyWarning: \n",
      "A value is trying to be set on a copy of a slice from a DataFrame\n",
      "\n",
      "See the caveats in the documentation: https://pandas.pydata.org/pandas-docs/stable/user_guide/indexing.html#returning-a-view-versus-a-copy\n",
      "  \"\"\"Entry point for launching an IPython kernel.\n",
      "C:\\Users\\Admin\\anaconda3\\lib\\site-packages\\ipykernel_launcher.py:2: SettingWithCopyWarning: \n",
      "A value is trying to be set on a copy of a slice from a DataFrame\n",
      "\n",
      "See the caveats in the documentation: https://pandas.pydata.org/pandas-docs/stable/user_guide/indexing.html#returning-a-view-versus-a-copy\n",
      "  \n",
      "C:\\Users\\Admin\\anaconda3\\lib\\site-packages\\ipykernel_launcher.py:3: SettingWithCopyWarning: \n",
      "A value is trying to be set on a copy of a slice from a DataFrame\n",
      "\n",
      "See the caveats in the documentation: https://pandas.pydata.org/pandas-docs/stable/user_guide/indexing.html#returning-a-view-versus-a-copy\n",
      "  This is separate from the ipykernel package so we can avoid doing imports until\n",
      "C:\\Users\\Admin\\anaconda3\\lib\\site-packages\\ipykernel_launcher.py:4: SettingWithCopyWarning: \n",
      "A value is trying to be set on a copy of a slice from a DataFrame\n",
      "\n",
      "See the caveats in the documentation: https://pandas.pydata.org/pandas-docs/stable/user_guide/indexing.html#returning-a-view-versus-a-copy\n",
      "  after removing the cwd from sys.path.\n",
      "C:\\Users\\Admin\\anaconda3\\lib\\site-packages\\ipykernel_launcher.py:5: SettingWithCopyWarning: \n",
      "A value is trying to be set on a copy of a slice from a DataFrame\n",
      "\n",
      "See the caveats in the documentation: https://pandas.pydata.org/pandas-docs/stable/user_guide/indexing.html#returning-a-view-versus-a-copy\n",
      "  \"\"\"\n"
     ]
    }
   ],
   "source": [
    "df1['SkinThick'][df1['SkinThick'] < 10] = df1['SkinThick'].median()\n",
    "df1['BMI'][df1['BMI'] < 10] = df1['SkinThick'].median()\n",
    "df1['BloodP'][df1['BloodP'] < 10] = df1['BloodP'].median()\n",
    "df1['TwoHourSerIns'][df1['TwoHourSerIns'] < 10] = df1['TwoHourSerIns'].median()\n",
    "df1['PlGlcConc'][df1['PlGlcConc'] < 10] = df1['TwoHourSerIns'].median()\n"
   ]
  },
  {
   "cell_type": "markdown",
   "metadata": {
    "colab_type": "text",
    "id": "-8h0P-vLM1kl"
   },
   "source": [
    "## Normalize Data "
   ]
  },
  {
   "cell_type": "markdown",
   "metadata": {
    "colab_type": "text",
    "id": "GNxKYsijM1km"
   },
   "source": [
    "One of the most important data transformations we need to apply is the features scaling. Basically, most of the machine learning algorithms don't work very well if the features have a different set of values. In our case, for example, the Age ranges from 20 to 80 years old, while the number of times a patient has been pregnant ranges from 0 to 17. For this reason, we need to apply a proper transformation.\n",
    "\n",
    "### 8. Execute Data Standardization using data zero mean and unit variance (don't forget to remove ground truth column before scaling)."
   ]
  },
  {
   "cell_type": "code",
   "execution_count": 15,
   "metadata": {},
   "outputs": [
    {
     "data": {
      "text/plain": [
       "array([[6.000e+00, 1.480e+02, 7.200e+01, 3.500e+01, 3.050e+01, 3.360e+01,\n",
       "        6.270e-01, 5.000e+01],\n",
       "       [1.000e+00, 8.500e+01, 6.600e+01, 2.900e+01, 3.050e+01, 2.660e+01,\n",
       "        3.510e-01, 3.100e+01],\n",
       "       [8.000e+00, 1.830e+02, 6.400e+01, 2.300e+01, 3.050e+01, 2.330e+01,\n",
       "        6.720e-01, 3.200e+01],\n",
       "       [1.000e+00, 8.900e+01, 6.600e+01, 2.300e+01, 9.400e+01, 2.810e+01,\n",
       "        1.670e-01, 2.100e+01],\n",
       "       [0.000e+00, 1.370e+02, 4.000e+01, 3.500e+01, 1.680e+02, 4.310e+01,\n",
       "        2.288e+00, 3.300e+01]])"
      ]
     },
     "execution_count": 15,
     "metadata": {},
     "output_type": "execute_result"
    }
   ],
   "source": [
    "X = df1.drop('HasDiabetes', axis = 1).values\n",
    "y = df1['HasDiabetes'].values\n",
    "X[0:5]"
   ]
  },
  {
   "cell_type": "code",
   "execution_count": 16,
   "metadata": {},
   "outputs": [
    {
     "data": {
      "text/plain": [
       "array([[ 0.63994726,  0.8602134 , -0.03198993,  0.83199672, -0.60820096,\n",
       "         0.18356822,  0.46849198,  1.4259954 ],\n",
       "       [-0.84488505, -1.15426163, -0.5283186 ,  0.17382661, -0.60820096,\n",
       "        -0.82189559, -0.36506078, -0.19067191],\n",
       "       [ 1.23388019,  1.97936619, -0.69376149, -0.4843435 , -0.60820096,\n",
       "        -1.29589995,  0.60439732, -0.10558415],\n",
       "       [-0.84488505, -1.02635846, -0.5283186 , -0.4843435 , -0.00618459,\n",
       "        -0.60643906, -0.92076261, -1.04154944],\n",
       "       [-1.14185152,  0.50847966, -2.67907616,  0.83199672,  0.69537779,\n",
       "         1.54812624,  5.4849091 , -0.0204964 ]])"
      ]
     },
     "execution_count": 16,
     "metadata": {},
     "output_type": "execute_result"
    }
   ],
   "source": [
    "#StandardScaler transform data into mean of 0 and standard deviation of 1.\n",
    "X = preprocessing.StandardScaler().fit(X).transform(X.astype(float))\n",
    "X[0:5]"
   ]
  },
  {
   "cell_type": "markdown",
   "metadata": {
    "button": false,
    "colab_type": "text",
    "id": "oOHQu_2rM1ko",
    "new_sheet": false,
    "run_control": {
     "read_only": false
    }
   },
   "source": [
    "# Splitting the Dataset"
   ]
  },
  {
   "cell_type": "markdown",
   "metadata": {
    "colab_type": "text",
    "id": "luDui2xtM1ko"
   },
   "source": [
    "Now that we have transformed the data, we need to split the dataset into two parts: a training dataset and a test dataset. Splitting the dataset is a very important step for supervised machine learning models. Basically, we are going to use the first part to train the model (ignoring the column with the pre-assigned label), then we use the trained model to make predictions on new data (which is the test dataset, not part of the training set) and compare the predicted value with the pre-assigned label.\n",
    "\n",
    "### 9. Split the dataset into 80/20 using the stratified technique and random_state=7."
   ]
  },
  {
   "cell_type": "code",
   "execution_count": 17,
   "metadata": {
    "colab": {},
    "colab_type": "code",
    "id": "Xfh4QK1oM1kp"
   },
   "outputs": [],
   "source": [
    "from sklearn.model_selection import train_test_split\n",
    "X_train, X_test, y_train, y_test = train_test_split(X,y,test_size = 0.2, random_state =7)"
   ]
  },
  {
   "cell_type": "code",
   "execution_count": 18,
   "metadata": {},
   "outputs": [
    {
     "data": {
      "text/plain": [
       "(768, 9)"
      ]
     },
     "execution_count": 18,
     "metadata": {},
     "output_type": "execute_result"
    }
   ],
   "source": [
    "df1.shape"
   ]
  },
  {
   "cell_type": "markdown",
   "metadata": {
    "colab_type": "text",
    "id": "Yk3Y6qVtM1kq"
   },
   "source": [
    "# Additional Question: \n",
    "### Why should we perform data normalization and data splitting before the training step?\n",
    "Type your answer in the cell bellow as the markdown format."
   ]
  },
  {
   "cell_type": "markdown",
   "metadata": {
    "colab_type": "text",
    "id": "2yXSkeUjM1kr"
   },
   "source": [
    "### TO DO:\n",
    "1. Normalization gets rid of a number of anomalies that can make analysis of the data more complicated.\n",
    "2. Splitting for testing the accuracy of moldel."
   ]
  },
  {
   "cell_type": "markdown",
   "metadata": {
    "colab_type": "text",
    "id": "6PaVBEAwM1ks"
   },
   "source": [
    "### 10. Print out the proportion of positive/total women who have diabetes on the full dataset, training dataset, and testing dataset."
   ]
  },
  {
   "cell_type": "code",
   "execution_count": 19,
   "metadata": {},
   "outputs": [
    {
     "data": {
      "text/plain": [
       "0.3489583333333333"
      ]
     },
     "execution_count": 19,
     "metadata": {},
     "output_type": "execute_result"
    }
   ],
   "source": [
    "df1['HasDiabetes'][df1['HasDiabetes'] == 1 ].count()/df1['HasDiabetes'].count()"
   ]
  },
  {
   "cell_type": "code",
   "execution_count": 20,
   "metadata": {},
   "outputs": [
    {
     "data": {
      "text/plain": [
       "0.34364820846905536"
      ]
     },
     "execution_count": 20,
     "metadata": {},
     "output_type": "execute_result"
    }
   ],
   "source": [
    "y_train[y_train == 1].size/y_train.size"
   ]
  },
  {
   "cell_type": "code",
   "execution_count": 21,
   "metadata": {},
   "outputs": [
    {
     "data": {
      "text/plain": [
       "0.37012987012987014"
      ]
     },
     "execution_count": 21,
     "metadata": {},
     "output_type": "execute_result"
    }
   ],
   "source": [
    "y_test[y_test ==1].size/y_test.size"
   ]
  },
  {
   "cell_type": "markdown",
   "metadata": {
    "button": false,
    "colab_type": "text",
    "id": "KHXGaCazM1k0",
    "new_sheet": false,
    "run_control": {
     "read_only": false
    }
   },
   "source": [
    "# Classification "
   ]
  },
  {
   "cell_type": "markdown",
   "metadata": {
    "button": false,
    "colab_type": "text",
    "id": "Q-NwUyDVM1k0",
    "new_sheet": false,
    "run_control": {
     "read_only": false
    }
   },
   "source": [
    "Now, it is your turn, use the training set to build an accurate model. Then use the test set to report the accuracy of the model.\n",
    "\n",
    "You should use the following algorithms:\n",
    "- K Nearest Neighbor(KNN)\n",
    "- Decision Tree\n",
    "- Support Vector Machine\n",
    "- Logistic Regression\n",
    "- Soft voting\n",
    "- Hard voting\n",
    "\n",
    "\n",
    "\n",
    "**__ Notes:__**\n",
    "\n",
    "- You must try to **FINE TUNE AT LEAST 3 PARAMETERS** on each algorithm, except on soft voting and hard voting.\n",
    "- You can go above and change the pre-processing, feature selection, feature extraction, and so on, to make a better model.\n",
    "- You should use either scikit-learn, Scipy or Numpy libraries for developing the classification algorithms.\n",
    "- You should include the code of the algorithm in the following cells."
   ]
  },
  {
   "cell_type": "markdown",
   "metadata": {
    "colab_type": "text",
    "id": "c8HKeDu9M1k1"
   },
   "source": [
    "# Import Evaluation Metrices"
   ]
  },
  {
   "cell_type": "code",
   "execution_count": 23,
   "metadata": {
    "colab": {},
    "colab_type": "code",
    "id": "sZrg6rrsM1k1"
   },
   "outputs": [],
   "source": [
    "from sklearn.metrics import jaccard_similarity_score, f1_score"
   ]
  },
  {
   "cell_type": "code",
   "execution_count": 24,
   "metadata": {
    "colab": {},
    "colab_type": "code",
    "id": "TBXdCSP-M1k3"
   },
   "outputs": [],
   "source": [
    "# a dictionary for keeping all scores of the classifiers\n",
    "f1_scores = {'train':{'KNN': 0, 'DT': 0, 'SVM': 0, 'LR': 0, 'EN_HARD': 0, 'EN_SOFT': 0},\n",
    "             'test':{'KNN': 0, 'DT': 0, 'SVM': 0, 'LR': 0, 'EN_HARD': 0, 'EN_SOFT': 0}}\n",
    "jaccard_scores = {'train':{'KNN': 0, 'DT': 0, 'SVM': 0, 'LR': 0, 'EN_HARD': 0, 'EN_SOFT': 0}, \n",
    "                  'test':{'KNN': 0, 'DT': 0, 'SVM': 0, 'LR': 0, 'EN_HARD': 0, 'EN_SOFT': 0}}\n"
   ]
  },
  {
   "cell_type": "markdown",
   "metadata": {
    "colab_type": "text",
    "id": "ntwqYDm7M1k6"
   },
   "source": [
    "# K Nearest Neighbor(KNN)\n",
    "### 11. Finetune at least 3 parameters to get the KNN model with best accuracy. Then, print out the KNN model's parameters with the best accuracy(best estimator).\n",
    "Hint: Using GridSearchCV in sklearn.model_selection.\n",
    "\n",
    "**Warning:** You should not use the test data for finding the best parameters."
   ]
  },
  {
   "cell_type": "code",
   "execution_count": 25,
   "metadata": {
    "colab": {},
    "colab_type": "code",
    "id": "WpD6yCUlM1k7"
   },
   "outputs": [],
   "source": [
    "from sklearn.neighbors import KNeighborsClassifier\n",
    "from sklearn.model_selection import GridSearchCV"
   ]
  },
  {
   "cell_type": "code",
   "execution_count": 26,
   "metadata": {
    "colab": {},
    "colab_type": "code",
    "id": "Xw2vbHFKM1k9"
   },
   "outputs": [
    {
     "name": "stdout",
     "output_type": "stream",
     "text": [
      "Fitting 3 folds for each of 16 candidates, totalling 48 fits\n"
     ]
    },
    {
     "name": "stderr",
     "output_type": "stream",
     "text": [
      "[Parallel(n_jobs=-1)]: Using backend LokyBackend with 4 concurrent workers.\n",
      "[Parallel(n_jobs=-1)]: Done  41 out of  48 | elapsed:    1.7s remaining:    0.2s\n",
      "[Parallel(n_jobs=-1)]: Done  48 out of  48 | elapsed:    1.7s finished\n"
     ]
    }
   ],
   "source": [
    "kn = KNeighborsClassifier()\n",
    "params = {\n",
    "    'n_neighbors' : [5, 11, 17, 25],\n",
    "    'weights': ['uniform', 'distance'],\n",
    "    'metric': ['euclidean', 'manhattan'],\n",
    "    }\n",
    "grid_kn = GridSearchCV(estimator = kn,\n",
    "                        param_grid = params,\n",
    "                        scoring = 'accuracy', \n",
    "                        cv = 3, \n",
    "                        verbose = 1,\n",
    "                        n_jobs = -1)\n",
    "result_kn = grid_kn.fit(X_train, y_train)"
   ]
  },
  {
   "cell_type": "code",
   "execution_count": 27,
   "metadata": {},
   "outputs": [
    {
     "data": {
      "text/plain": [
       "0.7492109038737446"
      ]
     },
     "execution_count": 27,
     "metadata": {},
     "output_type": "execute_result"
    }
   ],
   "source": [
    "result_kn.best_score_"
   ]
  },
  {
   "cell_type": "code",
   "execution_count": 28,
   "metadata": {},
   "outputs": [
    {
     "data": {
      "text/plain": [
       "KNeighborsClassifier(algorithm='auto', leaf_size=30, metric='euclidean',\n",
       "                     metric_params=None, n_jobs=None, n_neighbors=17, p=2,\n",
       "                     weights='uniform')"
      ]
     },
     "execution_count": 28,
     "metadata": {},
     "output_type": "execute_result"
    }
   ],
   "source": [
    "Knn_best = result_kn.best_estimator_\n",
    "Knn_best"
   ]
  },
  {
   "cell_type": "code",
   "execution_count": 29,
   "metadata": {},
   "outputs": [
    {
     "data": {
      "text/plain": [
       "{'metric': 'euclidean', 'n_neighbors': 17, 'weights': 'uniform'}"
      ]
     },
     "execution_count": 29,
     "metadata": {},
     "output_type": "execute_result"
    }
   ],
   "source": [
    "result_kn.best_params_"
   ]
  },
  {
   "cell_type": "markdown",
   "metadata": {
    "colab_type": "text",
    "id": "QLvhv6JrM1lA"
   },
   "source": [
    "# Additional Question: \n",
    "### Interpret and explain the parameters you have chosen to fine tune in KNN algorithm.\n",
    "Type your answer in the cell bellow as markdown format."
   ]
  },
  {
   "cell_type": "markdown",
   "metadata": {
    "colab_type": "text",
    "id": "qaJt1GeEM1lA"
   },
   "source": [
    "### TO DO:\n",
    " 1. 'metric': 'euclidean': the \"ordinary\" straight-line distance between two points\n",
    " 2. 'n_neighbors': 17: The number of surrounding neighbour.\n",
    " 3. 'weights': 'uniform': each neighbor within the boundary carries the same weight "
   ]
  },
  {
   "cell_type": "markdown",
   "metadata": {
    "colab_type": "text",
    "id": "GsPgXPEpM1lB"
   },
   "source": [
    "### 12. Run the prediction on KNN models on training data and test data, then calculate the f1 score and Jaccard similarity score and save it to f1_scores dict and jaccard_scores dict.  \n",
    "**Requirement**: F1 score on test data must be higher than **0.6**, Jaccard similarity score must be higher than **0.75**."
   ]
  },
  {
   "cell_type": "code",
   "execution_count": 30,
   "metadata": {},
   "outputs": [
    {
     "data": {
      "text/plain": [
       "KNeighborsClassifier(algorithm='auto', leaf_size=30, metric='minkowski',\n",
       "                     metric_params=None, n_jobs=None, n_neighbors=17, p=2,\n",
       "                     weights='uniform')"
      ]
     },
     "execution_count": 30,
     "metadata": {},
     "output_type": "execute_result"
    }
   ],
   "source": [
    "fit_kn = KNeighborsClassifier(n_neighbors = 17).fit(X_train,y_train)\n",
    "fit_kn"
   ]
  },
  {
   "cell_type": "code",
   "execution_count": 31,
   "metadata": {},
   "outputs": [
    {
     "name": "stdout",
     "output_type": "stream",
     "text": [
      "[0 1 1 0 1]\n",
      "[0 1 1 0 1]\n"
     ]
    }
   ],
   "source": [
    "yhat_test_kn = fit_kn.predict(X_test)\n",
    "print(yhat_test_kn[0:5])\n",
    "print(y_test[0:5])"
   ]
  },
  {
   "cell_type": "code",
   "execution_count": 32,
   "metadata": {},
   "outputs": [
    {
     "name": "stdout",
     "output_type": "stream",
     "text": [
      "[0 0 1 0 0]\n",
      "[0 1 1 1 1]\n"
     ]
    }
   ],
   "source": [
    "yhat_train_kn = fit_kn.predict(X_train)\n",
    "print(yhat_train_kn[0:5])\n",
    "print(y_train[0:5])"
   ]
  },
  {
   "cell_type": "code",
   "execution_count": 35,
   "metadata": {},
   "outputs": [
    {
     "name": "stdout",
     "output_type": "stream",
     "text": [
      "f1_scores:  \n",
      " {'train': {'KNN': 0.7725984609202861, 'DT': 0, 'SVM': 0, 'LR': 0, 'EN_HARD': 0, 'EN_SOFT': 0}, 'test': {'KNN': 0.7935738947868595, 'DT': 0, 'SVM': 0, 'LR': 0, 'EN_HARD': 0, 'EN_SOFT': 0}}\n",
      "jaccard_scores:  \n",
      " {'train': {'KNN': 0.7817589576547231, 'DT': 0, 'SVM': 0, 'LR': 0, 'EN_HARD': 0, 'EN_SOFT': 0}, 'test': {'KNN': 0.8051948051948052, 'DT': 0, 'SVM': 0, 'LR': 0, 'EN_HARD': 0, 'EN_SOFT': 0}}\n"
     ]
    }
   ],
   "source": [
    "f1_scores['train']['KNN']= f1_score(y_train, yhat_train_kn, average='weighted')\n",
    "f1_scores['test']['KNN'] = f1_score(y_test, yhat_test_kn, average='weighted')\n",
    "jaccard_scores['train']['KNN'] = jaccard_similarity_score(y_train, yhat_train_kn)\n",
    "jaccard_scores['test']['KNN'] = jaccard_similarity_score(y_test, yhat_test_kn)\n",
    "print('f1_scores: ','\\n', f1_scores)\n",
    "print('jaccard_scores: ','\\n', jaccard_scores)"
   ]
  },
  {
   "cell_type": "markdown",
   "metadata": {
    "colab_type": "text",
    "id": "NXIl2GGLM1lE"
   },
   "source": [
    "# Decision Tree"
   ]
  },
  {
   "cell_type": "markdown",
   "metadata": {
    "colab_type": "text",
    "id": "kW11u1k6M1lF"
   },
   "source": [
    "### 13, 14. Perform task 11 and 12 on the DT model.\n",
    "\n",
    "Hint: Using GridSearchCV in sklearn.model_selection.\n",
    "\n",
    "**Warning**: You should not use the test data for finding the best parameters.\n",
    "\n",
    "**Requirement**: F1 score on test data has to higher than **0.6**, the Jaccard similarity score must be higher than **0.73**."
   ]
  },
  {
   "cell_type": "code",
   "execution_count": 36,
   "metadata": {
    "colab": {},
    "colab_type": "code",
    "id": "CnE8pvjvM1lG"
   },
   "outputs": [],
   "source": [
    "from sklearn import tree"
   ]
  },
  {
   "cell_type": "code",
   "execution_count": 37,
   "metadata": {
    "colab": {},
    "colab_type": "code",
    "id": "RPdHH2HiM1lI"
   },
   "outputs": [],
   "source": [
    "from sklearn.tree import DecisionTreeClassifier\n",
    "from sklearn.metrics import roc_auc_score\n",
    "\n",
    "param_grid = {'max_depth': np.arange(3, 10),'max_leaf_nodes': np.arange(3, 10)}\n",
    "dt = DecisionTreeClassifier()\n",
    "grid_tree = GridSearchCV(DecisionTreeClassifier(), param_grid)\n",
    "\n",
    "result_tree = grid_tree.fit(X_train, y_train)"
   ]
  },
  {
   "cell_type": "code",
   "execution_count": 38,
   "metadata": {},
   "outputs": [
    {
     "data": {
      "text/plain": [
       "0.7426229508196721"
      ]
     },
     "execution_count": 38,
     "metadata": {},
     "output_type": "execute_result"
    }
   ],
   "source": [
    "result_tree.best_score_"
   ]
  },
  {
   "cell_type": "code",
   "execution_count": 39,
   "metadata": {},
   "outputs": [
    {
     "data": {
      "text/plain": [
       "DecisionTreeClassifier(ccp_alpha=0.0, class_weight=None, criterion='gini',\n",
       "                       max_depth=5, max_features=None, max_leaf_nodes=8,\n",
       "                       min_impurity_decrease=0.0, min_impurity_split=None,\n",
       "                       min_samples_leaf=1, min_samples_split=2,\n",
       "                       min_weight_fraction_leaf=0.0, presort='deprecated',\n",
       "                       random_state=None, splitter='best')"
      ]
     },
     "execution_count": 39,
     "metadata": {},
     "output_type": "execute_result"
    }
   ],
   "source": [
    "dt_best = result_tree.best_estimator_\n",
    "dt_best"
   ]
  },
  {
   "cell_type": "markdown",
   "metadata": {
    "colab_type": "text",
    "id": "0ZjQch2RM1lL"
   },
   "source": [
    "# Additional Question: \n",
    "### Interpret and explain the parameters you have chosen to fine tune in DT algorithm.\n",
    "Type your answer in the cell bellow as the markdown format."
   ]
  },
  {
   "cell_type": "markdown",
   "metadata": {
    "colab_type": "text",
    "id": "g4aBT64WM1lL"
   },
   "source": [
    "### TO DO:\n",
    "1. max_depth : The maximum depth of the tree. If None, then nodes are expanded until all leaves are pure or until all leaves contain less than min_samples_split samples.\n",
    "2. max_leaf_nodes: Grow a tree with max_leaf_nodes in best-first fashion. Best nodes are defined as relative reduction in impurity. If None then unlimited number of leaf nodes."
   ]
  },
  {
   "cell_type": "code",
   "execution_count": 40,
   "metadata": {},
   "outputs": [
    {
     "data": {
      "text/plain": [
       "DecisionTreeClassifier(ccp_alpha=0.0, class_weight=None, criterion='entropy',\n",
       "                       max_depth=5, max_features=None, max_leaf_nodes=None,\n",
       "                       min_impurity_decrease=0.0, min_impurity_split=None,\n",
       "                       min_samples_leaf=1, min_samples_split=2,\n",
       "                       min_weight_fraction_leaf=0.0, presort='deprecated',\n",
       "                       random_state=None, splitter='best')"
      ]
     },
     "execution_count": 40,
     "metadata": {},
     "output_type": "execute_result"
    }
   ],
   "source": [
    "from sklearn.tree import DecisionTreeClassifier\n",
    "fit_tree = DecisionTreeClassifier(criterion = 'entropy', max_depth = 5).fit(X_train, y_train)\n",
    "fit_tree "
   ]
  },
  {
   "cell_type": "code",
   "execution_count": 41,
   "metadata": {},
   "outputs": [
    {
     "name": "stdout",
     "output_type": "stream",
     "text": [
      "[0 1 0 0 1]\n",
      "[0 1 1 0 1]\n"
     ]
    }
   ],
   "source": [
    "yhat_test_tree = fit_tree.predict(X_test)\n",
    "print(yhat_test_tree[0:5])\n",
    "print(y_test[0:5])"
   ]
  },
  {
   "cell_type": "code",
   "execution_count": 42,
   "metadata": {},
   "outputs": [
    {
     "name": "stdout",
     "output_type": "stream",
     "text": [
      "[1 0 1 0 1 0 0 0 0 0]\n",
      "[0 1 1 1 1 0 1 0 0 0]\n"
     ]
    }
   ],
   "source": [
    "yhat_train_tree = fit_tree.predict(X_train)\n",
    "print(yhat_train_tree[0:10])\n",
    "print(y_train[0:10])"
   ]
  },
  {
   "cell_type": "code",
   "execution_count": 43,
   "metadata": {},
   "outputs": [
    {
     "name": "stdout",
     "output_type": "stream",
     "text": [
      "f1_scores:  \n",
      " {'train': {'KNN': 0.7725984609202861, 'DT': 0.8308077032329595, 'SVM': 0, 'LR': 0, 'EN_HARD': 0, 'EN_SOFT': 0}, 'test': {'KNN': 0.7935738947868595, 'DT': 0.7609336562216144, 'SVM': 0, 'LR': 0, 'EN_HARD': 0, 'EN_SOFT': 0}}\n",
      "jaccard_scores:  \n",
      " {'train': {'KNN': 0.7817589576547231, 'DT': 0.8306188925081434, 'SVM': 0, 'LR': 0, 'EN_HARD': 0, 'EN_SOFT': 0}, 'test': {'KNN': 0.8051948051948052, 'DT': 0.7597402597402597, 'SVM': 0, 'LR': 0, 'EN_HARD': 0, 'EN_SOFT': 0}}\n"
     ]
    },
    {
     "name": "stderr",
     "output_type": "stream",
     "text": [
      "C:\\Users\\Admin\\anaconda3\\lib\\site-packages\\sklearn\\metrics\\_classification.py:664: FutureWarning: jaccard_similarity_score has been deprecated and replaced with jaccard_score. It will be removed in version 0.23. This implementation has surprising behavior for binary and multiclass classification tasks.\n",
      "  FutureWarning)\n"
     ]
    }
   ],
   "source": [
    "f1_scores['train']['DT']= f1_score(y_train, yhat_train_tree, average='weighted')\n",
    "f1_scores['test']['DT'] = f1_score(y_test, yhat_test_tree, average='weighted')\n",
    "jaccard_scores['train']['DT'] = jaccard_similarity_score(y_train, yhat_train_tree)\n",
    "jaccard_scores['test']['DT'] = jaccard_similarity_score(y_test, yhat_test_tree)\n",
    "print('f1_scores: ','\\n', f1_scores)\n",
    "print('jaccard_scores: ','\\n', jaccard_scores)"
   ]
  },
  {
   "cell_type": "markdown",
   "metadata": {
    "colab_type": "text",
    "id": "nd4a59C6M1lQ"
   },
   "source": [
    "# Support Vector Machine"
   ]
  },
  {
   "cell_type": "markdown",
   "metadata": {
    "colab_type": "text",
    "id": "sn_wfdWpM1lR"
   },
   "source": [
    "### 15, 16. Perform task 11 and 12 on SVM models.\n",
    "\n",
    "Hint: Using GridSearchCV in sklearn.model_selection.\n",
    "\n",
    "**Warning**: You should not use the test data for finding the best parameters.\n",
    "\n",
    "**Requirement**: F1 score on test data has to higher than **0.62**, Jaccard similarity score must be higher than **0.75**."
   ]
  },
  {
   "cell_type": "code",
   "execution_count": 45,
   "metadata": {
    "colab": {},
    "colab_type": "code",
    "id": "WUwo79EMM1lR"
   },
   "outputs": [],
   "source": [
    "from sklearn.svm import SVC"
   ]
  },
  {
   "cell_type": "code",
   "execution_count": 46,
   "metadata": {
    "colab": {},
    "colab_type": "code",
    "id": "JMxZtQa8M1lT"
   },
   "outputs": [],
   "source": [
    "from sklearn.model_selection import GridSearchCV\n",
    "from sklearn.svm import SVR\n",
    "svm = SVC(probability=True)\n",
    "parameters = {'kernel':('linear', 'rbf'), 'C':(1,0.25,0.5,0.75)}\n",
    "grid_svm = GridSearchCV(svm, parameters)\n",
    "result_svc = grid_svm.fit(X_train, y_train)"
   ]
  },
  {
   "cell_type": "code",
   "execution_count": 47,
   "metadata": {},
   "outputs": [
    {
     "data": {
      "text/plain": [
       "0.7703451952552313"
      ]
     },
     "execution_count": 47,
     "metadata": {},
     "output_type": "execute_result"
    }
   ],
   "source": [
    "result_svc.best_score_"
   ]
  },
  {
   "cell_type": "code",
   "execution_count": 48,
   "metadata": {},
   "outputs": [
    {
     "data": {
      "text/plain": [
       "SVC(C=0.25, break_ties=False, cache_size=200, class_weight=None, coef0=0.0,\n",
       "    decision_function_shape='ovr', degree=3, gamma='scale', kernel='linear',\n",
       "    max_iter=-1, probability=True, random_state=None, shrinking=True, tol=0.001,\n",
       "    verbose=False)"
      ]
     },
     "execution_count": 48,
     "metadata": {},
     "output_type": "execute_result"
    }
   ],
   "source": [
    "svc_best = result_svc.best_estimator_\n",
    "svc_best"
   ]
  },
  {
   "cell_type": "markdown",
   "metadata": {
    "colab_type": "text",
    "id": "03XgTdoPM1lW"
   },
   "source": [
    "# Additional Question: \n",
    "### Interpret and explain the parameters you have chosen to fine tune in SVM algorithm.\n",
    "Type your answer in the cell bellow as the markdown format."
   ]
  },
  {
   "cell_type": "markdown",
   "metadata": {
    "colab_type": "text",
    "id": "wz0N8-CIM1lW"
   },
   "source": [
    "### TO DO:\n",
    "1. C : Regularization parameter\n",
    "2. Kernel is a feature transformation in an feature space. Linear Kernel is used when the data is Linearly separable"
   ]
  },
  {
   "cell_type": "code",
   "execution_count": 49,
   "metadata": {},
   "outputs": [
    {
     "data": {
      "text/plain": [
       "SVC(C=1.0, break_ties=False, cache_size=200, class_weight=None, coef0=0.0,\n",
       "    decision_function_shape='ovr', degree=3, gamma='scale', kernel='linear',\n",
       "    max_iter=-1, probability=False, random_state=None, shrinking=True,\n",
       "    tol=0.001, verbose=False)"
      ]
     },
     "execution_count": 49,
     "metadata": {},
     "output_type": "execute_result"
    }
   ],
   "source": [
    "from sklearn import svm\n",
    "fit_svm = svm.SVC(kernel='linear').fit(X_train,y_train)\n",
    "fit_svm"
   ]
  },
  {
   "cell_type": "code",
   "execution_count": 50,
   "metadata": {},
   "outputs": [
    {
     "name": "stdout",
     "output_type": "stream",
     "text": [
      "[0 1 1 0 0]\n",
      "[0 1 1 0 1]\n"
     ]
    }
   ],
   "source": [
    "yhat_test_svm = fit_svm.predict(X_test)\n",
    "print(yhat_test_svm[0:5])\n",
    "print(y_test[0:5])"
   ]
  },
  {
   "cell_type": "code",
   "execution_count": 51,
   "metadata": {},
   "outputs": [
    {
     "name": "stdout",
     "output_type": "stream",
     "text": [
      "[0 0 1 0 0]\n",
      "[0 1 1 1 1]\n"
     ]
    }
   ],
   "source": [
    "yhat_train_svm = fit_svm.predict(X_train)\n",
    "print(yhat_train_svm[0:5])\n",
    "print(y_train[0:5])"
   ]
  },
  {
   "cell_type": "code",
   "execution_count": 52,
   "metadata": {},
   "outputs": [
    {
     "name": "stdout",
     "output_type": "stream",
     "text": [
      "f1_scores:  \n",
      " {'train': {'KNN': 0.7725984609202861, 'DT': 0.8308077032329595, 'SVM': 0.7609508291827105, 'LR': 0, 'EN_HARD': 0, 'EN_SOFT': 0}, 'test': {'KNN': 0.7935738947868595, 'DT': 0.7609336562216144, 'SVM': 0.7542422200441069, 'LR': 0, 'EN_HARD': 0, 'EN_SOFT': 0}}\n",
      "jaccard_scores:  \n",
      " {'train': {'KNN': 0.7817589576547231, 'DT': 0.8306188925081434, 'SVM': 0.7703583061889251, 'LR': 0, 'EN_HARD': 0, 'EN_SOFT': 0}, 'test': {'KNN': 0.8051948051948052, 'DT': 0.7597402597402597, 'SVM': 0.7662337662337663, 'LR': 0, 'EN_HARD': 0, 'EN_SOFT': 0}}\n"
     ]
    },
    {
     "name": "stderr",
     "output_type": "stream",
     "text": [
      "C:\\Users\\Admin\\anaconda3\\lib\\site-packages\\sklearn\\metrics\\_classification.py:664: FutureWarning: jaccard_similarity_score has been deprecated and replaced with jaccard_score. It will be removed in version 0.23. This implementation has surprising behavior for binary and multiclass classification tasks.\n",
      "  FutureWarning)\n"
     ]
    }
   ],
   "source": [
    "f1_scores['train']['SVM']=f1_score(y_train, yhat_train_svm, average='weighted')\n",
    "f1_scores['test']['SVM'] = f1_score(y_test, yhat_test_svm, average='weighted')\n",
    "jaccard_scores['train']['SVM'] = jaccard_similarity_score(y_train, yhat_train_svm)\n",
    "jaccard_scores['test']['SVM'] = jaccard_similarity_score(y_test, yhat_test_svm)\n",
    "print('f1_scores: ','\\n', f1_scores)\n",
    "print('jaccard_scores: ','\\n', jaccard_scores)"
   ]
  },
  {
   "cell_type": "markdown",
   "metadata": {
    "colab_type": "text",
    "id": "xRVAKHEkM1la"
   },
   "source": [
    "# Logistic Regression"
   ]
  },
  {
   "cell_type": "markdown",
   "metadata": {
    "colab_type": "text",
    "id": "nTQkBQIXM1la"
   },
   "source": [
    "### 17, 18. Perform task 11 and 12 on Logistic Regression model.\n",
    "\n",
    "Hint: Using GridSearchCV in sklearn.model_selection.\n",
    "\n",
    "**Warning**: You should not use the test data for finding the best parameters.\n",
    "\n",
    "**Requirement**: F1 score on test data has to higher than **0.63**, Jaccard similarity score must be higher than **0.75**."
   ]
  },
  {
   "cell_type": "code",
   "execution_count": 54,
   "metadata": {
    "colab": {},
    "colab_type": "code",
    "id": "cWFYayQLM1lb"
   },
   "outputs": [],
   "source": [
    "from sklearn.linear_model import LogisticRegression"
   ]
  },
  {
   "cell_type": "code",
   "execution_count": 55,
   "metadata": {
    "colab": {},
    "colab_type": "code",
    "id": "7szXdAHTM1lc"
   },
   "outputs": [
    {
     "name": "stderr",
     "output_type": "stream",
     "text": [
      "C:\\Users\\Admin\\anaconda3\\lib\\site-packages\\sklearn\\model_selection\\_validation.py:536: FitFailedWarning: Estimator fit failed. The score on this train-test partition for these parameters will be set to nan. Details: \n",
      "ValueError: Solver lbfgs supports only 'l2' or 'none' penalties, got l1 penalty.\n",
      "\n",
      "  FitFailedWarning)\n",
      "C:\\Users\\Admin\\anaconda3\\lib\\site-packages\\sklearn\\model_selection\\_validation.py:536: FitFailedWarning: Estimator fit failed. The score on this train-test partition for these parameters will be set to nan. Details: \n",
      "ValueError: Solver lbfgs supports only 'l2' or 'none' penalties, got l1 penalty.\n",
      "\n",
      "  FitFailedWarning)\n",
      "C:\\Users\\Admin\\anaconda3\\lib\\site-packages\\sklearn\\model_selection\\_validation.py:536: FitFailedWarning: Estimator fit failed. The score on this train-test partition for these parameters will be set to nan. Details: \n",
      "ValueError: Solver lbfgs supports only 'l2' or 'none' penalties, got l1 penalty.\n",
      "\n",
      "  FitFailedWarning)\n",
      "C:\\Users\\Admin\\anaconda3\\lib\\site-packages\\sklearn\\model_selection\\_validation.py:536: FitFailedWarning: Estimator fit failed. The score on this train-test partition for these parameters will be set to nan. Details: \n",
      "ValueError: Solver lbfgs supports only 'l2' or 'none' penalties, got l1 penalty.\n",
      "\n",
      "  FitFailedWarning)\n",
      "C:\\Users\\Admin\\anaconda3\\lib\\site-packages\\sklearn\\model_selection\\_validation.py:536: FitFailedWarning: Estimator fit failed. The score on this train-test partition for these parameters will be set to nan. Details: \n",
      "ValueError: Solver lbfgs supports only 'l2' or 'none' penalties, got l1 penalty.\n",
      "\n",
      "  FitFailedWarning)\n",
      "C:\\Users\\Admin\\anaconda3\\lib\\site-packages\\sklearn\\model_selection\\_validation.py:536: FitFailedWarning: Estimator fit failed. The score on this train-test partition for these parameters will be set to nan. Details: \n",
      "ValueError: Solver lbfgs supports only 'l2' or 'none' penalties, got l1 penalty.\n",
      "\n",
      "  FitFailedWarning)\n",
      "C:\\Users\\Admin\\anaconda3\\lib\\site-packages\\sklearn\\model_selection\\_validation.py:536: FitFailedWarning: Estimator fit failed. The score on this train-test partition for these parameters will be set to nan. Details: \n",
      "ValueError: Solver lbfgs supports only 'l2' or 'none' penalties, got l1 penalty.\n",
      "\n",
      "  FitFailedWarning)\n"
     ]
    },
    {
     "data": {
      "text/plain": [
       "0.7719725013220518"
      ]
     },
     "execution_count": 55,
     "metadata": {},
     "output_type": "execute_result"
    }
   ],
   "source": [
    "from sklearn.linear_model import LogisticRegression\n",
    "grid={\"C\":np.logspace(-3,3,7), \"penalty\":[\"l1\",\"l2\"]}\n",
    "logreg=LogisticRegression()\n",
    "grid_lr =GridSearchCV(logreg,grid,cv=10)\n",
    "result_logreg = grid_lr. fit(X_train,y_train)\n",
    "result_logreg.best_score_"
   ]
  },
  {
   "cell_type": "code",
   "execution_count": 56,
   "metadata": {},
   "outputs": [
    {
     "data": {
      "text/plain": [
       "LogisticRegression(C=10.0, class_weight=None, dual=False, fit_intercept=True,\n",
       "                   intercept_scaling=1, l1_ratio=None, max_iter=100,\n",
       "                   multi_class='auto', n_jobs=None, penalty='l2',\n",
       "                   random_state=None, solver='lbfgs', tol=0.0001, verbose=0,\n",
       "                   warm_start=False)"
      ]
     },
     "execution_count": 56,
     "metadata": {},
     "output_type": "execute_result"
    }
   ],
   "source": [
    "lr_best = result_logreg.best_estimator_\n",
    "lr_best"
   ]
  },
  {
   "cell_type": "markdown",
   "metadata": {
    "colab_type": "text",
    "id": "pfPytCDYM1le"
   },
   "source": [
    "# Additional Question: \n",
    "### Interpret and explain the parameters you have chosen to fine tune in LR algorithm.\n",
    "Type your answer in the cell bellow as the markdown format."
   ]
  },
  {
   "cell_type": "markdown",
   "metadata": {
    "colab_type": "text",
    "id": "RmPs5O5RM1lf"
   },
   "source": [
    "### TO DO:\n",
    "1. penalty: Used to specify the norm used in the penalization.\n",
    "2. C: Inverse of regularization strength"
   ]
  },
  {
   "cell_type": "code",
   "execution_count": 57,
   "metadata": {},
   "outputs": [],
   "source": [
    "fit_lr=LogisticRegression(C=1,penalty=\"l2\").fit(X_train,y_train)"
   ]
  },
  {
   "cell_type": "code",
   "execution_count": 58,
   "metadata": {},
   "outputs": [
    {
     "name": "stdout",
     "output_type": "stream",
     "text": [
      "[0 1 1 0 0]\n",
      "[0 1 1 0 1]\n"
     ]
    }
   ],
   "source": [
    "yhat_test_lr = fit_lr.predict(X_test)\n",
    "print(yhat_test_lr[0:5])\n",
    "print(y_test[0:5])"
   ]
  },
  {
   "cell_type": "code",
   "execution_count": 59,
   "metadata": {},
   "outputs": [
    {
     "name": "stdout",
     "output_type": "stream",
     "text": [
      "[0 0 1 0 0]\n",
      "[0 1 1 1 1]\n"
     ]
    }
   ],
   "source": [
    "yhat_train_lr = fit_lr.predict(X_train)\n",
    "print(yhat_train_lr[0:5])\n",
    "print(y_train[0:5])"
   ]
  },
  {
   "cell_type": "code",
   "execution_count": 60,
   "metadata": {},
   "outputs": [
    {
     "name": "stdout",
     "output_type": "stream",
     "text": [
      "f1_scores:  \n",
      " {'train': {'KNN': 0.7725984609202861, 'DT': 0.8308077032329595, 'SVM': 0.7609508291827105, 'LR': 0.7643415975630976, 'EN_HARD': 0, 'EN_SOFT': 0}, 'test': {'KNN': 0.7935738947868595, 'DT': 0.7609336562216144, 'SVM': 0.7542422200441069, 'LR': 0.7636653617514862, 'EN_HARD': 0, 'EN_SOFT': 0}}\n",
      "jaccard_scores:  \n",
      " {'train': {'KNN': 0.7817589576547231, 'DT': 0.8306188925081434, 'SVM': 0.7703583061889251, 'LR': 0.7736156351791531, 'EN_HARD': 0, 'EN_SOFT': 0}, 'test': {'KNN': 0.8051948051948052, 'DT': 0.7597402597402597, 'SVM': 0.7662337662337663, 'LR': 0.7727272727272727, 'EN_HARD': 0, 'EN_SOFT': 0}}\n"
     ]
    },
    {
     "name": "stderr",
     "output_type": "stream",
     "text": [
      "C:\\Users\\Admin\\anaconda3\\lib\\site-packages\\sklearn\\metrics\\_classification.py:664: FutureWarning: jaccard_similarity_score has been deprecated and replaced with jaccard_score. It will be removed in version 0.23. This implementation has surprising behavior for binary and multiclass classification tasks.\n",
      "  FutureWarning)\n"
     ]
    }
   ],
   "source": [
    "f1_scores['train']['LR']=f1_score(y_train, yhat_train_lr, average='weighted')\n",
    "f1_scores['test']['LR'] = f1_score(y_test, yhat_test_lr, average='weighted')\n",
    "jaccard_scores['train']['LR'] = jaccard_similarity_score(y_train, yhat_train_lr)\n",
    "jaccard_scores['test']['LR'] = jaccard_similarity_score(y_test, yhat_test_lr)\n",
    "print('f1_scores: ','\\n', f1_scores)\n",
    "print('jaccard_scores: ','\\n', jaccard_scores)"
   ]
  },
  {
   "cell_type": "markdown",
   "metadata": {
    "colab_type": "text",
    "id": "xhThcwLYM1li"
   },
   "source": [
    "# Advanced part (15%  of the total score)"
   ]
  },
  {
   "cell_type": "markdown",
   "metadata": {
    "colab_type": "text",
    "id": "eRc5JoN7M1lo"
   },
   "source": [
    "# Ensemble model"
   ]
  },
  {
   "cell_type": "markdown",
   "metadata": {
    "colab_type": "text",
    "id": "8-eteyNxM1lo"
   },
   "source": [
    "### 19. Perform soft voting on the 4 above models (using the same setting for the 4 models as in previous steps.) \n",
    "**Hint**: Using VotingClassifier in sklearn.ensemble."
   ]
  },
  {
   "cell_type": "code",
   "execution_count": 61,
   "metadata": {
    "colab": {},
    "colab_type": "code",
    "id": "G7FfposgM1lp"
   },
   "outputs": [],
   "source": [
    "from sklearn.ensemble import VotingClassifier"
   ]
  },
  {
   "cell_type": "code",
   "execution_count": 62,
   "metadata": {},
   "outputs": [],
   "source": [
    "estimators  = [('knn',Knn_best),('dt',dt_best),('svc',svc_best),('logreg',lr_best)]\n",
    "ensemble_soft = VotingClassifier(estimators, voting = 'soft')\n",
    "fit_en_soft = ensemble_soft.fit(X_train,y_train)"
   ]
  },
  {
   "cell_type": "markdown",
   "metadata": {
    "colab_type": "text",
    "id": "vZu5N_i3M1lu"
   },
   "source": [
    "### 20. Run the prediction on the ensembling model using soft voting on training data and test data, then calculate the f1 score and Jaccard similarity score and save it to f1_scores dict and jaccard_scores dict.¶\n",
    "\n",
    "**Requirement**: F1 score on test data must be higher than **0.66**, Jaccard similarity score must be higher than **0.78**."
   ]
  },
  {
   "cell_type": "code",
   "execution_count": 63,
   "metadata": {},
   "outputs": [
    {
     "name": "stdout",
     "output_type": "stream",
     "text": [
      "[0 1 1 0 0]\n",
      "[0 1 1 0 1]\n"
     ]
    }
   ],
   "source": [
    "yhat_test_en_soft = fit_en_soft.predict(X_test)\n",
    "print(yhat_test_en_soft[0:5])\n",
    "print(y_test[0:5])"
   ]
  },
  {
   "cell_type": "code",
   "execution_count": 64,
   "metadata": {},
   "outputs": [
    {
     "name": "stdout",
     "output_type": "stream",
     "text": [
      "[0 0 1 0 0]\n",
      "[0 1 1 1 1]\n"
     ]
    }
   ],
   "source": [
    "yhat_train_en_soft = fit_en_soft.predict(X_train)\n",
    "print(yhat_train_en_soft[0:5])\n",
    "print(y_train[0:5])"
   ]
  },
  {
   "cell_type": "code",
   "execution_count": 65,
   "metadata": {},
   "outputs": [
    {
     "name": "stdout",
     "output_type": "stream",
     "text": [
      "f1_scores:  \n",
      " {'train': {'KNN': 0.7725984609202861, 'DT': 0.8308077032329595, 'SVM': 0.7609508291827105, 'LR': 0.7643415975630976, 'EN_HARD': 0, 'EN_SOFT': 0.7770316296318854}, 'test': {'KNN': 0.7935738947868595, 'DT': 0.7609336562216144, 'SVM': 0.7542422200441069, 'LR': 0.7636653617514862, 'EN_HARD': 0, 'EN_SOFT': 0.7831610566304446}}\n",
      "jaccard_scores:  \n",
      " {'train': {'KNN': 0.7817589576547231, 'DT': 0.8306188925081434, 'SVM': 0.7703583061889251, 'LR': 0.7736156351791531, 'EN_HARD': 0, 'EN_SOFT': 0.7866449511400652}, 'test': {'KNN': 0.8051948051948052, 'DT': 0.7597402597402597, 'SVM': 0.7662337662337663, 'LR': 0.7727272727272727, 'EN_HARD': 0, 'EN_SOFT': 0.7922077922077922}}\n"
     ]
    },
    {
     "name": "stderr",
     "output_type": "stream",
     "text": [
      "C:\\Users\\Admin\\anaconda3\\lib\\site-packages\\sklearn\\metrics\\_classification.py:664: FutureWarning: jaccard_similarity_score has been deprecated and replaced with jaccard_score. It will be removed in version 0.23. This implementation has surprising behavior for binary and multiclass classification tasks.\n",
      "  FutureWarning)\n"
     ]
    }
   ],
   "source": [
    "f1_scores['train']['EN_SOFT']= f1_score(y_train, yhat_train_en_soft, average='weighted')\n",
    "f1_scores['test']['EN_SOFT'] = f1_score(y_test, yhat_test_en_soft, average='weighted')\n",
    "jaccard_scores['train']['EN_SOFT'] = jaccard_similarity_score(y_train, yhat_train_en_soft)\n",
    "jaccard_scores['test']['EN_SOFT'] = jaccard_similarity_score(y_test, yhat_test_en_soft)\n",
    "print('f1_scores: ','\\n', f1_scores)\n",
    "print('jaccard_scores: ','\\n', jaccard_scores)"
   ]
  },
  {
   "cell_type": "markdown",
   "metadata": {
    "colab_type": "text",
    "id": "d9vVirtTM1lw"
   },
   "source": [
    "### 21, 22. Perform task 19 and 20 using hard voting.\n",
    "Hint: Using GridSearchCV in sklearn.model_selection.\n",
    "\n",
    "**Warning**: You should not use the test data for finding the best parameters.\n",
    "\n",
    "**Requirement**: F1 score on test data must be higher than **0.57**, Jaccard similarity score must be higher than **0.73**."
   ]
  },
  {
   "cell_type": "code",
   "execution_count": 67,
   "metadata": {},
   "outputs": [],
   "source": [
    "estimators  = [('knn',Knn_best),('dt',dt_best),('svc',svc_best),('logreg',lr_best)]\n",
    "ensemble = VotingClassifier(estimators, voting = 'hard')\n",
    "fit_en = ensemble.fit(X_train,y_train)"
   ]
  },
  {
   "cell_type": "code",
   "execution_count": 68,
   "metadata": {
    "scrolled": true
   },
   "outputs": [
    {
     "name": "stdout",
     "output_type": "stream",
     "text": [
      "[0 1 1 0 0]\n",
      "[0 1 1 0 1]\n"
     ]
    }
   ],
   "source": [
    "yhat_test_en = fit_en.predict(X_test)\n",
    "print(yhat_test_en[0:5])\n",
    "print(y_test[0:5])"
   ]
  },
  {
   "cell_type": "code",
   "execution_count": 69,
   "metadata": {},
   "outputs": [
    {
     "name": "stdout",
     "output_type": "stream",
     "text": [
      "[0 0 1 0 0]\n",
      "[0 1 1 1 1]\n"
     ]
    }
   ],
   "source": [
    "yhat_train_en = fit_en.predict(X_train)\n",
    "print(yhat_train_en[0:5])\n",
    "print(y_train[0:5])"
   ]
  },
  {
   "cell_type": "code",
   "execution_count": 70,
   "metadata": {},
   "outputs": [
    {
     "name": "stdout",
     "output_type": "stream",
     "text": [
      "f1_scores:  \n",
      " {'train': {'KNN': 0.7725984609202861, 'DT': 0.8308077032329595, 'SVM': 0.7609508291827105, 'LR': 0.7643415975630976, 'EN_HARD': 0.7751828817481585, 'EN_SOFT': 0.7770316296318854}, 'test': {'KNN': 0.7935738947868595, 'DT': 0.7609336562216144, 'SVM': 0.7542422200441069, 'LR': 0.7636653617514862, 'EN_HARD': 0.7738430583501007, 'EN_SOFT': 0.7831610566304446}}\n",
      "jaccard_scores:  \n",
      " {'train': {'KNN': 0.7817589576547231, 'DT': 0.8306188925081434, 'SVM': 0.7703583061889251, 'LR': 0.7736156351791531, 'EN_HARD': 0.7866449511400652, 'EN_SOFT': 0.7866449511400652}, 'test': {'KNN': 0.8051948051948052, 'DT': 0.7597402597402597, 'SVM': 0.7662337662337663, 'LR': 0.7727272727272727, 'EN_HARD': 0.7857142857142857, 'EN_SOFT': 0.7922077922077922}}\n"
     ]
    },
    {
     "name": "stderr",
     "output_type": "stream",
     "text": [
      "C:\\Users\\Admin\\anaconda3\\lib\\site-packages\\sklearn\\metrics\\_classification.py:664: FutureWarning: jaccard_similarity_score has been deprecated and replaced with jaccard_score. It will be removed in version 0.23. This implementation has surprising behavior for binary and multiclass classification tasks.\n",
      "  FutureWarning)\n"
     ]
    }
   ],
   "source": [
    "f1_scores['train']['EN_HARD']= f1_score(y_train, yhat_train_en, average='weighted')\n",
    "f1_scores['test']['EN_HARD'] = f1_score(y_test, yhat_test_en, average='weighted')\n",
    "jaccard_scores['train']['EN_HARD'] = jaccard_similarity_score(y_train, yhat_train_en)\n",
    "jaccard_scores['test']['EN_HARD'] = jaccard_similarity_score(y_test, yhat_test_en)\n",
    "print('f1_scores: ','\\n', f1_scores)\n",
    "print('jaccard_scores: ','\\n', jaccard_scores)"
   ]
  },
  {
   "cell_type": "markdown",
   "metadata": {
    "colab_type": "text",
    "id": "RmteU8YeM1l3"
   },
   "source": [
    "# Report\n",
    "You should be able to report the accuracy of the built model using different evaluation metrics:"
   ]
  },
  {
   "cell_type": "markdown",
   "metadata": {
    "colab_type": "text",
    "id": "c3q0IThKM1l3"
   },
   "source": [
    "| Algorithm          | Jaccard-training | F1-score-training |Jaccard-testing | F1-score-testing |\n",
    "|--------------------|------------------|-------------------|----------------|------------------|\n",
    "| KNN                | ?                | ?                 |  ?             |  ?               |\n",
    "| Decision Tree      | ?                | ?                 |  ?             |  ?               |\n",
    "| SVM                | ?                | ?                 |  ?             |  ?               |\n",
    "| Logistic Regression| ?                | ?                 |  ?             |  ?               |\n",
    "| Hard Voting        | ?                | ?                 |  ?             |  ?               |\n",
    "| Soft Voting        | ?                | ?                 |  ?             |  ?               |\n"
   ]
  },
  {
   "cell_type": "markdown",
   "metadata": {
    "colab_type": "text",
    "id": "PpqjW-eOM1l3"
   },
   "source": [
    "### 23. Create a data frame that describes the result as exactly as above."
   ]
  },
  {
   "cell_type": "code",
   "execution_count": 71,
   "metadata": {},
   "outputs": [],
   "source": [
    "data = {'Algorithm':['KNN','Decision Tree','SVM','Logistic Regression','Hard Voting','Soft Voting'],\n",
    "        'Jaccard-training':[jaccard_scores['train']['KNN'], jaccard_scores['train']['DT'], jaccard_scores['train']['SVM'],jaccard_scores['train']['LR'],jaccard_scores['train']['EN_HARD'],jaccard_scores['train']['EN_SOFT']],\n",
    "        'F1-score-training':[f1_scores['train']['KNN'], f1_scores['train']['DT'], f1_scores['train']['SVM'],f1_scores['train']['LR'],f1_scores['train']['EN_HARD'],f1_scores['train']['EN_SOFT']],\n",
    "       'Jaccard-testing':[jaccard_scores['test']['KNN'], jaccard_scores['test']['DT'], jaccard_scores['test']['SVM'],jaccard_scores['test']['LR'],jaccard_scores['test']['EN_HARD'],jaccard_scores['test']['EN_SOFT']],\n",
    "       'F1-score-testing':[f1_scores['test']['KNN'], f1_scores['test']['DT'], f1_scores['test']['SVM'],f1_scores['test']['LR'],f1_scores['test']['EN_HARD'],f1_scores['test']['EN_SOFT']]}"
   ]
  },
  {
   "cell_type": "code",
   "execution_count": 72,
   "metadata": {},
   "outputs": [
    {
     "data": {
      "text/html": [
       "<div>\n",
       "<style scoped>\n",
       "    .dataframe tbody tr th:only-of-type {\n",
       "        vertical-align: middle;\n",
       "    }\n",
       "\n",
       "    .dataframe tbody tr th {\n",
       "        vertical-align: top;\n",
       "    }\n",
       "\n",
       "    .dataframe thead th {\n",
       "        text-align: right;\n",
       "    }\n",
       "</style>\n",
       "<table border=\"1\" class=\"dataframe\">\n",
       "  <thead>\n",
       "    <tr style=\"text-align: right;\">\n",
       "      <th></th>\n",
       "      <th>Algorithm</th>\n",
       "      <th>Jaccard-training</th>\n",
       "      <th>F1-score-training</th>\n",
       "      <th>Jaccard-testing</th>\n",
       "      <th>F1-score-testing</th>\n",
       "    </tr>\n",
       "  </thead>\n",
       "  <tbody>\n",
       "    <tr>\n",
       "      <th>0</th>\n",
       "      <td>KNN</td>\n",
       "      <td>0.781759</td>\n",
       "      <td>0.772598</td>\n",
       "      <td>0.805195</td>\n",
       "      <td>0.793574</td>\n",
       "    </tr>\n",
       "    <tr>\n",
       "      <th>1</th>\n",
       "      <td>Decision Tree</td>\n",
       "      <td>0.830619</td>\n",
       "      <td>0.830808</td>\n",
       "      <td>0.759740</td>\n",
       "      <td>0.760934</td>\n",
       "    </tr>\n",
       "    <tr>\n",
       "      <th>2</th>\n",
       "      <td>SVM</td>\n",
       "      <td>0.770358</td>\n",
       "      <td>0.760951</td>\n",
       "      <td>0.766234</td>\n",
       "      <td>0.754242</td>\n",
       "    </tr>\n",
       "    <tr>\n",
       "      <th>3</th>\n",
       "      <td>Logistic Regression</td>\n",
       "      <td>0.773616</td>\n",
       "      <td>0.764342</td>\n",
       "      <td>0.772727</td>\n",
       "      <td>0.763665</td>\n",
       "    </tr>\n",
       "    <tr>\n",
       "      <th>4</th>\n",
       "      <td>Hard Voting</td>\n",
       "      <td>0.786645</td>\n",
       "      <td>0.775183</td>\n",
       "      <td>0.785714</td>\n",
       "      <td>0.773843</td>\n",
       "    </tr>\n",
       "    <tr>\n",
       "      <th>5</th>\n",
       "      <td>Soft Voting</td>\n",
       "      <td>0.786645</td>\n",
       "      <td>0.777032</td>\n",
       "      <td>0.792208</td>\n",
       "      <td>0.783161</td>\n",
       "    </tr>\n",
       "  </tbody>\n",
       "</table>\n",
       "</div>"
      ],
      "text/plain": [
       "             Algorithm  Jaccard-training  F1-score-training  Jaccard-testing  \\\n",
       "0                  KNN          0.781759           0.772598         0.805195   \n",
       "1        Decision Tree          0.830619           0.830808         0.759740   \n",
       "2                  SVM          0.770358           0.760951         0.766234   \n",
       "3  Logistic Regression          0.773616           0.764342         0.772727   \n",
       "4          Hard Voting          0.786645           0.775183         0.785714   \n",
       "5          Soft Voting          0.786645           0.777032         0.792208   \n",
       "\n",
       "   F1-score-testing  \n",
       "0          0.793574  \n",
       "1          0.760934  \n",
       "2          0.754242  \n",
       "3          0.763665  \n",
       "4          0.773843  \n",
       "5          0.783161  "
      ]
     },
     "execution_count": 72,
     "metadata": {},
     "output_type": "execute_result"
    }
   ],
   "source": [
    "table = pd.DataFrame(data)\n",
    "table"
   ]
  },
  {
   "cell_type": "markdown",
   "metadata": {
    "colab_type": "text",
    "id": "TYifTRP7M1l5"
   },
   "source": [
    "# Additional Question: \n",
    "### Are ensemble methods always better than a single model? If not, explain why?\n",
    "Type your answer in the cell bellow as the markdown format.\n",
    "\t"
   ]
  },
  {
   "cell_type": "markdown",
   "metadata": {
    "colab_type": "text",
    "id": "450BrJ44M1l6"
   },
   "source": [
    "### TO DO:\n",
    "No, when a single model that is closest to the true data generating process will always be best and will beat most ensemble methods. In this case, Decistion Tree model return better score."
   ]
  }
 ],
 "metadata": {
  "colab": {
   "collapsed_sections": [
    "2yXSkeUjM1kr",
    "qaJt1GeEM1lA",
    "450BrJ44M1l6"
   ],
   "name": "DSP303x_01_EN_2_Starter_Code.ipynb",
   "provenance": []
  },
  "kernelspec": {
   "display_name": "Python 3",
   "language": "python",
   "name": "python3"
  },
  "language_info": {
   "codemirror_mode": {
    "name": "ipython",
    "version": 3
   },
   "file_extension": ".py",
   "mimetype": "text/x-python",
   "name": "python",
   "nbconvert_exporter": "python",
   "pygments_lexer": "ipython3",
   "version": "3.7.6"
  }
 },
 "nbformat": 4,
 "nbformat_minor": 1
}
