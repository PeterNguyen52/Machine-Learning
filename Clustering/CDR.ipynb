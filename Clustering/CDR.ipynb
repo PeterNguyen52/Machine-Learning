{
 "cells": [
  {
   "cell_type": "markdown",
   "metadata": {
    "colab_type": "text",
    "id": "GOQnxzmBv9De"
   },
   "source": [
    "<h1 align=center><font size = 10> k-Means </font></h1>"
   ]
  },
  {
   "cell_type": "markdown",
   "metadata": {
    "colab_type": "text",
    "id": "usAKqVxNv9Dn"
   },
   "source": [
    "In this notebook, we try to practice one of the most popular algorithms in Clustering that we learned in this course: k-Means algorithm. \n",
    "\n",
    "We load a dataset using Pandas library and apply k-Means to explore information from data.\n",
    "Lets first load required libraries:"
   ]
  },
  {
   "cell_type": "code",
   "execution_count": 1,
   "metadata": {
    "colab": {},
    "colab_type": "code",
    "id": "Q5O9fzThv9D0"
   },
   "outputs": [],
   "source": [
    "import pandas as pd\n",
    "\n",
    "import matplotlib.pyplot as plt\n",
    "import matplotlib\n",
    "\n",
    "matplotlib.style.use('ggplot') # Look Pretty\n",
    "\n",
    "def showandtell(title=None):\n",
    "  plt.show()"
   ]
  },
  {
   "cell_type": "markdown",
   "metadata": {
    "colab_type": "text",
    "id": "MHmnU6zOv9EN"
   },
   "source": [
    "A convenience function for you to use:"
   ]
  },
  {
   "cell_type": "code",
   "execution_count": 2,
   "metadata": {
    "colab": {},
    "colab_type": "code",
    "id": "k1-xfZQcv9EU"
   },
   "outputs": [],
   "source": [
    "def clusterInfo(model):\n",
    "    print(\"Cluster Analysis Inertia: \", model.inertia_)\n",
    "    print('------------------------------------------')\n",
    "    \n",
    "    for i in range(len(model.cluster_centers_)):\n",
    "        print(\"\\n  Cluster \", i)\n",
    "        print(\"    Centroid \", model.cluster_centers_[i])\n",
    "        print(\"    #Samples \", (model.labels_==i).sum()) # NumPy Power"
   ]
  },
  {
   "cell_type": "code",
   "execution_count": 3,
   "metadata": {
    "colab": {},
    "colab_type": "code",
    "id": "UrvyqEsYv9Ex"
   },
   "outputs": [],
   "source": [
    "# Find the cluster with the least # attached nodes\n",
    "def clusterWithFewestSamples(model):\n",
    "    # Ensure there's at least on cluster...\n",
    "    minSamples = len(model.labels_)\n",
    "    minCluster = 0\n",
    "    \n",
    "    for i in range(len(model.cluster_centers_)):\n",
    "        if minSamples > (model.labels_==i).sum():\n",
    "            minCluster = i\n",
    "            minSamples = (model.labels_==i).sum()\n",
    "\n",
    "    print(\"\\n  Cluster With Fewest Samples: \", minCluster)\n",
    "    return (model.labels_==minCluster)"
   ]
  },
  {
   "cell_type": "markdown",
   "metadata": {
    "colab_type": "text",
    "id": "C1WB0kN2v9FD"
   },
   "source": [
    "# Mandatory part (85%  of the total score)"
   ]
  },
  {
   "cell_type": "markdown",
   "metadata": {
    "colab_type": "text",
    "collapsed": true,
    "id": "05e8jGU-v9FJ"
   },
   "source": [
    "### About dataset"
   ]
  },
  {
   "cell_type": "markdown",
   "metadata": {
    "colab_type": "text",
    "collapsed": true,
    "id": "ibSiQYQ2v9FR"
   },
   "source": [
    "A [call detail record](https://en.wikipedia.org/wiki/Call_detail_record) (CDR) is a data record produced by a telephone exchange or other telecommunications equipment that documents the details of a telephone call or other telecommunications transaction (e.g., text message) that passes through that facility or device.\n",
    "\n",
    "The questions you'll be exploring in this lab assignment using K-Means are: exactly how useful is telephone metadata? It must have some use, otherwise, the government wouldn't have invested however many millions they did into it secretly collecting it from phone carriers. Also what kind of intelligence can you extract from CDR metadata besides its face value?\n",
    "\n",
    "The record contains various attributes of the call, such as time, duration, completion status, source number, and destination number. It is the automated equivalent of the paper toll tickets that were written and timed by operators for long-distance calls in a manual telephone exchange.\n",
    "\n",
    "The dataset we've curated for you contains call records of 10 people, tracked over the course of 3 years. Your job in this assignment is to find out where each of these people likely live and where they work at!\n",
    "\n",
    "\n",
    "**1. Start by loading up the dataset and taking a peek at its head. You have to convert date-strings to real date-time objects using `pd.to_datetime`, and the times using `pd.to_timedelta`:**"
   ]
  },
  {
   "cell_type": "code",
   "execution_count": 4,
   "metadata": {
    "colab": {},
    "colab_type": "code",
    "id": "gmiL-mtbv9FU"
   },
   "outputs": [
    {
     "data": {
      "text/html": [
       "<div>\n",
       "<style scoped>\n",
       "    .dataframe tbody tr th:only-of-type {\n",
       "        vertical-align: middle;\n",
       "    }\n",
       "\n",
       "    .dataframe tbody tr th {\n",
       "        vertical-align: top;\n",
       "    }\n",
       "\n",
       "    .dataframe thead th {\n",
       "        text-align: right;\n",
       "    }\n",
       "</style>\n",
       "<table border=\"1\" class=\"dataframe\">\n",
       "  <thead>\n",
       "    <tr style=\"text-align: right;\">\n",
       "      <th></th>\n",
       "      <th>In</th>\n",
       "      <th>Out</th>\n",
       "      <th>Direction</th>\n",
       "      <th>CallDate</th>\n",
       "      <th>CallTime</th>\n",
       "      <th>DOW</th>\n",
       "      <th>Duration</th>\n",
       "      <th>TowerID</th>\n",
       "      <th>TowerLat</th>\n",
       "      <th>TowerLon</th>\n",
       "    </tr>\n",
       "  </thead>\n",
       "  <tbody>\n",
       "    <tr>\n",
       "      <th>53183</th>\n",
       "      <td>8549533077</td>\n",
       "      <td>491169353</td>\n",
       "      <td>Missed</td>\n",
       "      <td>2013-02-26</td>\n",
       "      <td>19:11:18.125445</td>\n",
       "      <td>Tue</td>\n",
       "      <td>0:04:05.656331</td>\n",
       "      <td>6c1f0271-70e2-4ea6-bb8b-23b3b0b06117</td>\n",
       "      <td>32.772361</td>\n",
       "      <td>-96.777278</td>\n",
       "    </tr>\n",
       "    <tr>\n",
       "      <th>53184</th>\n",
       "      <td>8549533077</td>\n",
       "      <td>2362231379</td>\n",
       "      <td>Incoming</td>\n",
       "      <td>2013-02-26</td>\n",
       "      <td>18:01:56.075434</td>\n",
       "      <td>Tue</td>\n",
       "      <td>0:01:53.848597</td>\n",
       "      <td>a11a02cf-73c6-479c-8cf1-8fbee7917716</td>\n",
       "      <td>32.786556</td>\n",
       "      <td>-96.791250</td>\n",
       "    </tr>\n",
       "    <tr>\n",
       "      <th>53185</th>\n",
       "      <td>8549533077</td>\n",
       "      <td>186272563</td>\n",
       "      <td>Incoming</td>\n",
       "      <td>2013-02-26</td>\n",
       "      <td>16:08:57.602134</td>\n",
       "      <td>Tue</td>\n",
       "      <td>0:01:57.577549</td>\n",
       "      <td>06fe2702-1f88-4dfd-90d6-22c2d3227855</td>\n",
       "      <td>32.985083</td>\n",
       "      <td>-96.802556</td>\n",
       "    </tr>\n",
       "    <tr>\n",
       "      <th>53186</th>\n",
       "      <td>8549533077</td>\n",
       "      <td>2288700880</td>\n",
       "      <td>Incoming</td>\n",
       "      <td>2013-02-26</td>\n",
       "      <td>08:01:39.721347</td>\n",
       "      <td>Tue</td>\n",
       "      <td>0:01:39.690498</td>\n",
       "      <td>269b1e26-49c4-4308-8879-8f2d37528c8a</td>\n",
       "      <td>32.985083</td>\n",
       "      <td>-96.802528</td>\n",
       "    </tr>\n",
       "    <tr>\n",
       "      <th>53187</th>\n",
       "      <td>8549533077</td>\n",
       "      <td>491169353</td>\n",
       "      <td>Incoming</td>\n",
       "      <td>2013-02-26</td>\n",
       "      <td>10:47:00.637845</td>\n",
       "      <td>Tue</td>\n",
       "      <td>0:03:42.595246</td>\n",
       "      <td>269b1e26-49c4-4308-8879-8f2d37528c8a</td>\n",
       "      <td>32.985083</td>\n",
       "      <td>-96.802528</td>\n",
       "    </tr>\n",
       "  </tbody>\n",
       "</table>\n",
       "</div>"
      ],
      "text/plain": [
       "               In         Out Direction    CallDate         CallTime  DOW  \\\n",
       "53183  8549533077   491169353    Missed  2013-02-26  19:11:18.125445  Tue   \n",
       "53184  8549533077  2362231379  Incoming  2013-02-26  18:01:56.075434  Tue   \n",
       "53185  8549533077   186272563  Incoming  2013-02-26  16:08:57.602134  Tue   \n",
       "53186  8549533077  2288700880  Incoming  2013-02-26  08:01:39.721347  Tue   \n",
       "53187  8549533077   491169353  Incoming  2013-02-26  10:47:00.637845  Tue   \n",
       "\n",
       "             Duration                               TowerID   TowerLat  \\\n",
       "53183  0:04:05.656331  6c1f0271-70e2-4ea6-bb8b-23b3b0b06117  32.772361   \n",
       "53184  0:01:53.848597  a11a02cf-73c6-479c-8cf1-8fbee7917716  32.786556   \n",
       "53185  0:01:57.577549  06fe2702-1f88-4dfd-90d6-22c2d3227855  32.985083   \n",
       "53186  0:01:39.690498  269b1e26-49c4-4308-8879-8f2d37528c8a  32.985083   \n",
       "53187  0:03:42.595246  269b1e26-49c4-4308-8879-8f2d37528c8a  32.985083   \n",
       "\n",
       "        TowerLon  \n",
       "53183 -96.777278  \n",
       "53184 -96.791250  \n",
       "53185 -96.802556  \n",
       "53186 -96.802528  \n",
       "53187 -96.802528  "
      ]
     },
     "execution_count": 4,
     "metadata": {},
     "output_type": "execute_result"
    }
   ],
   "source": [
    "df = pd.read_csv(\"CDR.csv\")\n",
    "df.tail()"
   ]
  },
  {
   "cell_type": "code",
   "execution_count": 5,
   "metadata": {},
   "outputs": [
    {
     "data": {
      "text/plain": [
       "(53188, 10)"
      ]
     },
     "execution_count": 5,
     "metadata": {},
     "output_type": "execute_result"
    }
   ],
   "source": [
    "df.shape"
   ]
  },
  {
   "cell_type": "code",
   "execution_count": 6,
   "metadata": {},
   "outputs": [
    {
     "data": {
      "text/plain": [
       "In             int64\n",
       "Out            int64\n",
       "Direction     object\n",
       "CallDate      object\n",
       "CallTime      object\n",
       "DOW           object\n",
       "Duration      object\n",
       "TowerID       object\n",
       "TowerLat     float64\n",
       "TowerLon     float64\n",
       "dtype: object"
      ]
     },
     "execution_count": 6,
     "metadata": {},
     "output_type": "execute_result"
    }
   ],
   "source": [
    "df.dtypes"
   ]
  },
  {
   "cell_type": "code",
   "execution_count": 7,
   "metadata": {},
   "outputs": [],
   "source": [
    "df['CallDate']= pd.to_datetime(df['CallDate'])\n",
    "df['CallTime']= pd.to_datetime(df['CallTime'])\n",
    "df['Duration']= pd.to_timedelta(df['Duration'])"
   ]
  },
  {
   "cell_type": "markdown",
   "metadata": {
    "colab_type": "text",
    "id": "k0WtHbk9v9Fr"
   },
   "source": [
    "**2. Create a distinct list of `In` phone numbers (people) and store the values in a regular python list.**\n",
    "\n",
    "Make sure the numbers appear in your list in the same order they appear in your dataframe; but only keep a single copy of each number. [This link](https://docs.scipy.org/doc/numpy/reference/generated/numpy.ndarray.tolist.html) might also be helpful."
   ]
  },
  {
   "cell_type": "code",
   "execution_count": 8,
   "metadata": {
    "colab": {},
    "colab_type": "code",
    "id": "_XJ8wBjDv9F2"
   },
   "outputs": [
    {
     "data": {
      "text/plain": [
       "[4638472273,\n",
       " 1559410755,\n",
       " 4931532174,\n",
       " 2419930464,\n",
       " 1884182865,\n",
       " 3688089071,\n",
       " 4555003213,\n",
       " 2068627935,\n",
       " 2894365987,\n",
       " 8549533077]"
      ]
     },
     "execution_count": 8,
     "metadata": {},
     "output_type": "execute_result"
    }
   ],
   "source": [
    "In_list = df['In'].unique().tolist()\n",
    "In_list"
   ]
  },
  {
   "cell_type": "markdown",
   "metadata": {
    "colab_type": "text",
    "id": "jnHV9oQ1v9GU"
   },
   "source": [
    "**3. Create a slice named `user1` that filters to _only_ include dataset records where the `In` feature (user's phone number) is equal to the first number on your unique list above, i.e., the very first number in the dataset:**"
   ]
  },
  {
   "cell_type": "code",
   "execution_count": 9,
   "metadata": {
    "colab": {},
    "colab_type": "code",
    "id": "a4jIG9o_v9Gb"
   },
   "outputs": [
    {
     "data": {
      "text/html": [
       "<div>\n",
       "<style scoped>\n",
       "    .dataframe tbody tr th:only-of-type {\n",
       "        vertical-align: middle;\n",
       "    }\n",
       "\n",
       "    .dataframe tbody tr th {\n",
       "        vertical-align: top;\n",
       "    }\n",
       "\n",
       "    .dataframe thead th {\n",
       "        text-align: right;\n",
       "    }\n",
       "</style>\n",
       "<table border=\"1\" class=\"dataframe\">\n",
       "  <thead>\n",
       "    <tr style=\"text-align: right;\">\n",
       "      <th></th>\n",
       "      <th>In</th>\n",
       "      <th>Out</th>\n",
       "      <th>Direction</th>\n",
       "      <th>CallDate</th>\n",
       "      <th>CallTime</th>\n",
       "      <th>DOW</th>\n",
       "      <th>Duration</th>\n",
       "      <th>TowerID</th>\n",
       "      <th>TowerLat</th>\n",
       "      <th>TowerLon</th>\n",
       "    </tr>\n",
       "  </thead>\n",
       "  <tbody>\n",
       "    <tr>\n",
       "      <th>0</th>\n",
       "      <td>4638472273</td>\n",
       "      <td>2666307251</td>\n",
       "      <td>Incoming</td>\n",
       "      <td>2010-12-25</td>\n",
       "      <td>2020-06-24 07:16:24.736813</td>\n",
       "      <td>Sat</td>\n",
       "      <td>00:02:41.741499</td>\n",
       "      <td>0db53dd3-eb9c-4344-abc5-c2d74ebc3eec</td>\n",
       "      <td>32.731611</td>\n",
       "      <td>-96.709417</td>\n",
       "    </tr>\n",
       "    <tr>\n",
       "      <th>1</th>\n",
       "      <td>4638472273</td>\n",
       "      <td>1755442610</td>\n",
       "      <td>Incoming</td>\n",
       "      <td>2010-12-25</td>\n",
       "      <td>2020-06-24 21:18:30.053710</td>\n",
       "      <td>Sat</td>\n",
       "      <td>00:02:47.108750</td>\n",
       "      <td>aeaf8b43-8034-44fe-833d-31854a75acbf</td>\n",
       "      <td>32.731722</td>\n",
       "      <td>-96.709500</td>\n",
       "    </tr>\n",
       "    <tr>\n",
       "      <th>2</th>\n",
       "      <td>4638472273</td>\n",
       "      <td>5481755331</td>\n",
       "      <td>Incoming</td>\n",
       "      <td>2010-12-25</td>\n",
       "      <td>2020-06-24 14:52:42.878016</td>\n",
       "      <td>Sat</td>\n",
       "      <td>00:04:35.356341</td>\n",
       "      <td>fadaa83f-6001-45fd-aa4a-17d6c6b7ec00</td>\n",
       "      <td>32.899944</td>\n",
       "      <td>-96.910389</td>\n",
       "    </tr>\n",
       "    <tr>\n",
       "      <th>3</th>\n",
       "      <td>4638472273</td>\n",
       "      <td>1755442610</td>\n",
       "      <td>Incoming</td>\n",
       "      <td>2010-12-25</td>\n",
       "      <td>2020-06-24 16:02:09.001913</td>\n",
       "      <td>Sat</td>\n",
       "      <td>00:02:23.498499</td>\n",
       "      <td>fadaa83f-6001-45fd-aa4a-17d6c6b7ec00</td>\n",
       "      <td>32.899944</td>\n",
       "      <td>-96.910389</td>\n",
       "    </tr>\n",
       "    <tr>\n",
       "      <th>4</th>\n",
       "      <td>4638472273</td>\n",
       "      <td>2145623768</td>\n",
       "      <td>Incoming</td>\n",
       "      <td>2010-12-25</td>\n",
       "      <td>2020-06-24 15:28:35.028554</td>\n",
       "      <td>Sat</td>\n",
       "      <td>00:03:54.692497</td>\n",
       "      <td>95d7920d-c3cd-4d20-a568-9a55800dc807</td>\n",
       "      <td>32.899944</td>\n",
       "      <td>-96.910389</td>\n",
       "    </tr>\n",
       "    <tr>\n",
       "      <th>...</th>\n",
       "      <td>...</td>\n",
       "      <td>...</td>\n",
       "      <td>...</td>\n",
       "      <td>...</td>\n",
       "      <td>...</td>\n",
       "      <td>...</td>\n",
       "      <td>...</td>\n",
       "      <td>...</td>\n",
       "      <td>...</td>\n",
       "      <td>...</td>\n",
       "    </tr>\n",
       "    <tr>\n",
       "      <th>53140</th>\n",
       "      <td>4638472273</td>\n",
       "      <td>2666307251</td>\n",
       "      <td>Missed</td>\n",
       "      <td>2013-02-26</td>\n",
       "      <td>2020-06-24 11:26:01.888502</td>\n",
       "      <td>Tue</td>\n",
       "      <td>00:03:08.177065</td>\n",
       "      <td>0296279d-18c3-4709-853e-3e20496ce444</td>\n",
       "      <td>32.899944</td>\n",
       "      <td>-96.910389</td>\n",
       "    </tr>\n",
       "    <tr>\n",
       "      <th>53141</th>\n",
       "      <td>4638472273</td>\n",
       "      <td>2145623768</td>\n",
       "      <td>Missed</td>\n",
       "      <td>2013-02-26</td>\n",
       "      <td>2020-06-24 17:32:18.776276</td>\n",
       "      <td>Tue</td>\n",
       "      <td>00:02:30.823459</td>\n",
       "      <td>78512965-e30b-4734-ae92-47b910fe3d7f</td>\n",
       "      <td>32.899944</td>\n",
       "      <td>-96.910389</td>\n",
       "    </tr>\n",
       "    <tr>\n",
       "      <th>53142</th>\n",
       "      <td>4638472273</td>\n",
       "      <td>4551601645</td>\n",
       "      <td>Incoming</td>\n",
       "      <td>2013-02-26</td>\n",
       "      <td>2020-06-24 19:12:44.730636</td>\n",
       "      <td>Tue</td>\n",
       "      <td>00:03:42.954201</td>\n",
       "      <td>8fb02570-fb3f-4381-be74-3e1accf87ec5</td>\n",
       "      <td>32.750556</td>\n",
       "      <td>-96.694722</td>\n",
       "    </tr>\n",
       "    <tr>\n",
       "      <th>53143</th>\n",
       "      <td>4638472273</td>\n",
       "      <td>7721472178</td>\n",
       "      <td>Incoming</td>\n",
       "      <td>2013-02-26</td>\n",
       "      <td>2020-06-24 07:50:41.435642</td>\n",
       "      <td>Tue</td>\n",
       "      <td>00:04:04.460385</td>\n",
       "      <td>e78826ad-45b0-45d4-90ec-4776d73f1d8e</td>\n",
       "      <td>32.864167</td>\n",
       "      <td>-96.836944</td>\n",
       "    </tr>\n",
       "    <tr>\n",
       "      <th>53144</th>\n",
       "      <td>4638472273</td>\n",
       "      <td>6150928001</td>\n",
       "      <td>Incoming</td>\n",
       "      <td>2013-02-26</td>\n",
       "      <td>2020-06-24 07:49:56.273334</td>\n",
       "      <td>Tue</td>\n",
       "      <td>00:01:35.016406</td>\n",
       "      <td>b0320962-e409-487a-a435-e33ba8123768</td>\n",
       "      <td>32.881111</td>\n",
       "      <td>-96.856389</td>\n",
       "    </tr>\n",
       "  </tbody>\n",
       "</table>\n",
       "<p>3648 rows × 10 columns</p>\n",
       "</div>"
      ],
      "text/plain": [
       "               In         Out Direction   CallDate                   CallTime  \\\n",
       "0      4638472273  2666307251  Incoming 2010-12-25 2020-06-24 07:16:24.736813   \n",
       "1      4638472273  1755442610  Incoming 2010-12-25 2020-06-24 21:18:30.053710   \n",
       "2      4638472273  5481755331  Incoming 2010-12-25 2020-06-24 14:52:42.878016   \n",
       "3      4638472273  1755442610  Incoming 2010-12-25 2020-06-24 16:02:09.001913   \n",
       "4      4638472273  2145623768  Incoming 2010-12-25 2020-06-24 15:28:35.028554   \n",
       "...           ...         ...       ...        ...                        ...   \n",
       "53140  4638472273  2666307251    Missed 2013-02-26 2020-06-24 11:26:01.888502   \n",
       "53141  4638472273  2145623768    Missed 2013-02-26 2020-06-24 17:32:18.776276   \n",
       "53142  4638472273  4551601645  Incoming 2013-02-26 2020-06-24 19:12:44.730636   \n",
       "53143  4638472273  7721472178  Incoming 2013-02-26 2020-06-24 07:50:41.435642   \n",
       "53144  4638472273  6150928001  Incoming 2013-02-26 2020-06-24 07:49:56.273334   \n",
       "\n",
       "       DOW        Duration                               TowerID   TowerLat  \\\n",
       "0      Sat 00:02:41.741499  0db53dd3-eb9c-4344-abc5-c2d74ebc3eec  32.731611   \n",
       "1      Sat 00:02:47.108750  aeaf8b43-8034-44fe-833d-31854a75acbf  32.731722   \n",
       "2      Sat 00:04:35.356341  fadaa83f-6001-45fd-aa4a-17d6c6b7ec00  32.899944   \n",
       "3      Sat 00:02:23.498499  fadaa83f-6001-45fd-aa4a-17d6c6b7ec00  32.899944   \n",
       "4      Sat 00:03:54.692497  95d7920d-c3cd-4d20-a568-9a55800dc807  32.899944   \n",
       "...    ...             ...                                   ...        ...   \n",
       "53140  Tue 00:03:08.177065  0296279d-18c3-4709-853e-3e20496ce444  32.899944   \n",
       "53141  Tue 00:02:30.823459  78512965-e30b-4734-ae92-47b910fe3d7f  32.899944   \n",
       "53142  Tue 00:03:42.954201  8fb02570-fb3f-4381-be74-3e1accf87ec5  32.750556   \n",
       "53143  Tue 00:04:04.460385  e78826ad-45b0-45d4-90ec-4776d73f1d8e  32.864167   \n",
       "53144  Tue 00:01:35.016406  b0320962-e409-487a-a435-e33ba8123768  32.881111   \n",
       "\n",
       "        TowerLon  \n",
       "0     -96.709417  \n",
       "1     -96.709500  \n",
       "2     -96.910389  \n",
       "3     -96.910389  \n",
       "4     -96.910389  \n",
       "...          ...  \n",
       "53140 -96.910389  \n",
       "53141 -96.910389  \n",
       "53142 -96.694722  \n",
       "53143 -96.836944  \n",
       "53144 -96.856389  \n",
       "\n",
       "[3648 rows x 10 columns]"
      ]
     },
     "execution_count": 9,
     "metadata": {},
     "output_type": "execute_result"
    }
   ],
   "source": [
    "user1 = df[df['In'] == In_list[0]]\n",
    "user1"
   ]
  },
  {
   "cell_type": "markdown",
   "metadata": {
    "colab_type": "text",
    "id": "Hif0wj5bv9Gj"
   },
   "source": [
    "**4. Let's go ahead and plot all the call locations for user 1 in all time:**\n"
   ]
  },
  {
   "cell_type": "code",
   "execution_count": 10,
   "metadata": {},
   "outputs": [
    {
     "data": {
      "image/png": "[encoded data removed]",
      "text/plain": [
       "<Figure size 576x360 with 1 Axes>"
      ]
     },
     "metadata": {},
     "output_type": "display_data"
    }
   ],
   "source": [
    "user1.plot(kind = 'scatter', x = 'TowerLon', y ='TowerLat', figsize= (8,5), color = 'darkblue')\n",
    "plt.title(\"Call Locations for user 1 in all time \")\n",
    "plt.xlabel(\"TowerLon\")\n",
    "plt.ylabel(\"TowerLat\")\n",
    "plt.show()"
   ]
  },
  {
   "cell_type": "markdown",
   "metadata": {
    "colab_type": "text",
    "id": "in-x3fZIv9G2"
   },
   "source": [
    "INFO: The locations map above should be too \"busy\" to really wrap your head around. This is where domain expertise comes into play. Your intuition can direct you by knowing people are likely to behave differently on weekends vs on weekdays:\n",
    "\n",
    "#### On Weekends\n",
    "1. People probably don't go into work\n",
    "1. They probably sleep in late on Saturday\n",
    "1. They probably run a bunch of random errands, since they couldn't during the week\n",
    "1. They should be home, at least during the very late hours, e.g. 1-4 AM\n",
    "\n",
    "#### On Weekdays\n",
    "1. People probably are at work during normal working hours\n",
    "1. They probably are at home in the early morning and during the late night\n",
    "1. They probably spend time commuting between work and home everyday"
   ]
  },
  {
   "cell_type": "markdown",
   "metadata": {
    "colab_type": "text",
    "id": "f8luIW_Pv9G4"
   },
   "source": [
    "**5. Add more filters to the `user1` slice you created. Add bitwise logic so that you only examine records that _came in_ on weekends (sat/sun):**"
   ]
  },
  {
   "cell_type": "code",
   "execution_count": 11,
   "metadata": {
    "colab": {},
    "colab_type": "code",
    "id": "go9hxI31v9G8"
   },
   "outputs": [
    {
     "data": {
      "text/html": [
       "<div>\n",
       "<style scoped>\n",
       "    .dataframe tbody tr th:only-of-type {\n",
       "        vertical-align: middle;\n",
       "    }\n",
       "\n",
       "    .dataframe tbody tr th {\n",
       "        vertical-align: top;\n",
       "    }\n",
       "\n",
       "    .dataframe thead th {\n",
       "        text-align: right;\n",
       "    }\n",
       "</style>\n",
       "<table border=\"1\" class=\"dataframe\">\n",
       "  <thead>\n",
       "    <tr style=\"text-align: right;\">\n",
       "      <th></th>\n",
       "      <th>In</th>\n",
       "      <th>Out</th>\n",
       "      <th>Direction</th>\n",
       "      <th>CallDate</th>\n",
       "      <th>CallTime</th>\n",
       "      <th>DOW</th>\n",
       "      <th>Duration</th>\n",
       "      <th>TowerID</th>\n",
       "      <th>TowerLat</th>\n",
       "      <th>TowerLon</th>\n",
       "    </tr>\n",
       "  </thead>\n",
       "  <tbody>\n",
       "    <tr>\n",
       "      <th>0</th>\n",
       "      <td>4638472273</td>\n",
       "      <td>2666307251</td>\n",
       "      <td>Incoming</td>\n",
       "      <td>2010-12-25</td>\n",
       "      <td>2020-06-24 07:16:24.736813</td>\n",
       "      <td>Sat</td>\n",
       "      <td>00:02:41.741499</td>\n",
       "      <td>0db53dd3-eb9c-4344-abc5-c2d74ebc3eec</td>\n",
       "      <td>32.731611</td>\n",
       "      <td>-96.709417</td>\n",
       "    </tr>\n",
       "    <tr>\n",
       "      <th>1</th>\n",
       "      <td>4638472273</td>\n",
       "      <td>1755442610</td>\n",
       "      <td>Incoming</td>\n",
       "      <td>2010-12-25</td>\n",
       "      <td>2020-06-24 21:18:30.053710</td>\n",
       "      <td>Sat</td>\n",
       "      <td>00:02:47.108750</td>\n",
       "      <td>aeaf8b43-8034-44fe-833d-31854a75acbf</td>\n",
       "      <td>32.731722</td>\n",
       "      <td>-96.709500</td>\n",
       "    </tr>\n",
       "    <tr>\n",
       "      <th>2</th>\n",
       "      <td>4638472273</td>\n",
       "      <td>5481755331</td>\n",
       "      <td>Incoming</td>\n",
       "      <td>2010-12-25</td>\n",
       "      <td>2020-06-24 14:52:42.878016</td>\n",
       "      <td>Sat</td>\n",
       "      <td>00:04:35.356341</td>\n",
       "      <td>fadaa83f-6001-45fd-aa4a-17d6c6b7ec00</td>\n",
       "      <td>32.899944</td>\n",
       "      <td>-96.910389</td>\n",
       "    </tr>\n",
       "    <tr>\n",
       "      <th>3</th>\n",
       "      <td>4638472273</td>\n",
       "      <td>1755442610</td>\n",
       "      <td>Incoming</td>\n",
       "      <td>2010-12-25</td>\n",
       "      <td>2020-06-24 16:02:09.001913</td>\n",
       "      <td>Sat</td>\n",
       "      <td>00:02:23.498499</td>\n",
       "      <td>fadaa83f-6001-45fd-aa4a-17d6c6b7ec00</td>\n",
       "      <td>32.899944</td>\n",
       "      <td>-96.910389</td>\n",
       "    </tr>\n",
       "    <tr>\n",
       "      <th>4</th>\n",
       "      <td>4638472273</td>\n",
       "      <td>2145623768</td>\n",
       "      <td>Incoming</td>\n",
       "      <td>2010-12-25</td>\n",
       "      <td>2020-06-24 15:28:35.028554</td>\n",
       "      <td>Sat</td>\n",
       "      <td>00:03:54.692497</td>\n",
       "      <td>95d7920d-c3cd-4d20-a568-9a55800dc807</td>\n",
       "      <td>32.899944</td>\n",
       "      <td>-96.910389</td>\n",
       "    </tr>\n",
       "    <tr>\n",
       "      <th>...</th>\n",
       "      <td>...</td>\n",
       "      <td>...</td>\n",
       "      <td>...</td>\n",
       "      <td>...</td>\n",
       "      <td>...</td>\n",
       "      <td>...</td>\n",
       "      <td>...</td>\n",
       "      <td>...</td>\n",
       "      <td>...</td>\n",
       "      <td>...</td>\n",
       "    </tr>\n",
       "    <tr>\n",
       "      <th>52964</th>\n",
       "      <td>4638472273</td>\n",
       "      <td>6022767590</td>\n",
       "      <td>Incoming</td>\n",
       "      <td>2013-02-23</td>\n",
       "      <td>2020-06-24 16:12:12.701600</td>\n",
       "      <td>Sat</td>\n",
       "      <td>00:02:21.278138</td>\n",
       "      <td>fadaa83f-6001-45fd-aa4a-17d6c6b7ec00</td>\n",
       "      <td>32.899944</td>\n",
       "      <td>-96.910389</td>\n",
       "    </tr>\n",
       "    <tr>\n",
       "      <th>52965</th>\n",
       "      <td>4638472273</td>\n",
       "      <td>5621270003</td>\n",
       "      <td>Incoming</td>\n",
       "      <td>2013-02-23</td>\n",
       "      <td>2020-06-24 09:11:21.606945</td>\n",
       "      <td>Sat</td>\n",
       "      <td>00:03:19.757526</td>\n",
       "      <td>fadaa83f-6001-45fd-aa4a-17d6c6b7ec00</td>\n",
       "      <td>32.899944</td>\n",
       "      <td>-96.910389</td>\n",
       "    </tr>\n",
       "    <tr>\n",
       "      <th>53022</th>\n",
       "      <td>4638472273</td>\n",
       "      <td>7756914135</td>\n",
       "      <td>Incoming</td>\n",
       "      <td>2013-02-24</td>\n",
       "      <td>2020-06-24 16:49:42.830258</td>\n",
       "      <td>Sun</td>\n",
       "      <td>00:02:19.285474</td>\n",
       "      <td>fadaa83f-6001-45fd-aa4a-17d6c6b7ec00</td>\n",
       "      <td>32.899944</td>\n",
       "      <td>-96.910389</td>\n",
       "    </tr>\n",
       "    <tr>\n",
       "      <th>53023</th>\n",
       "      <td>4638472273</td>\n",
       "      <td>7721472178</td>\n",
       "      <td>Incoming</td>\n",
       "      <td>2013-02-24</td>\n",
       "      <td>2020-06-24 10:32:55.146952</td>\n",
       "      <td>Sun</td>\n",
       "      <td>00:00:04.908620</td>\n",
       "      <td>fadaa83f-6001-45fd-aa4a-17d6c6b7ec00</td>\n",
       "      <td>32.899944</td>\n",
       "      <td>-96.910389</td>\n",
       "    </tr>\n",
       "    <tr>\n",
       "      <th>53024</th>\n",
       "      <td>4638472273</td>\n",
       "      <td>1755442610</td>\n",
       "      <td>Missed</td>\n",
       "      <td>2013-02-24</td>\n",
       "      <td>2020-06-24 21:04:47.567403</td>\n",
       "      <td>Sun</td>\n",
       "      <td>00:02:26.051783</td>\n",
       "      <td>bcec0121-164d-406c-8c04-d12870893992</td>\n",
       "      <td>32.731611</td>\n",
       "      <td>-96.709417</td>\n",
       "    </tr>\n",
       "  </tbody>\n",
       "</table>\n",
       "<p>1141 rows × 10 columns</p>\n",
       "</div>"
      ],
      "text/plain": [
       "               In         Out Direction   CallDate                   CallTime  \\\n",
       "0      4638472273  2666307251  Incoming 2010-12-25 2020-06-24 07:16:24.736813   \n",
       "1      4638472273  1755442610  Incoming 2010-12-25 2020-06-24 21:18:30.053710   \n",
       "2      4638472273  5481755331  Incoming 2010-12-25 2020-06-24 14:52:42.878016   \n",
       "3      4638472273  1755442610  Incoming 2010-12-25 2020-06-24 16:02:09.001913   \n",
       "4      4638472273  2145623768  Incoming 2010-12-25 2020-06-24 15:28:35.028554   \n",
       "...           ...         ...       ...        ...                        ...   \n",
       "52964  4638472273  6022767590  Incoming 2013-02-23 2020-06-24 16:12:12.701600   \n",
       "52965  4638472273  5621270003  Incoming 2013-02-23 2020-06-24 09:11:21.606945   \n",
       "53022  4638472273  7756914135  Incoming 2013-02-24 2020-06-24 16:49:42.830258   \n",
       "53023  4638472273  7721472178  Incoming 2013-02-24 2020-06-24 10:32:55.146952   \n",
       "53024  4638472273  1755442610    Missed 2013-02-24 2020-06-24 21:04:47.567403   \n",
       "\n",
       "       DOW        Duration                               TowerID   TowerLat  \\\n",
       "0      Sat 00:02:41.741499  0db53dd3-eb9c-4344-abc5-c2d74ebc3eec  32.731611   \n",
       "1      Sat 00:02:47.108750  aeaf8b43-8034-44fe-833d-31854a75acbf  32.731722   \n",
       "2      Sat 00:04:35.356341  fadaa83f-6001-45fd-aa4a-17d6c6b7ec00  32.899944   \n",
       "3      Sat 00:02:23.498499  fadaa83f-6001-45fd-aa4a-17d6c6b7ec00  32.899944   \n",
       "4      Sat 00:03:54.692497  95d7920d-c3cd-4d20-a568-9a55800dc807  32.899944   \n",
       "...    ...             ...                                   ...        ...   \n",
       "52964  Sat 00:02:21.278138  fadaa83f-6001-45fd-aa4a-17d6c6b7ec00  32.899944   \n",
       "52965  Sat 00:03:19.757526  fadaa83f-6001-45fd-aa4a-17d6c6b7ec00  32.899944   \n",
       "53022  Sun 00:02:19.285474  fadaa83f-6001-45fd-aa4a-17d6c6b7ec00  32.899944   \n",
       "53023  Sun 00:00:04.908620  fadaa83f-6001-45fd-aa4a-17d6c6b7ec00  32.899944   \n",
       "53024  Sun 00:02:26.051783  bcec0121-164d-406c-8c04-d12870893992  32.731611   \n",
       "\n",
       "        TowerLon  \n",
       "0     -96.709417  \n",
       "1     -96.709500  \n",
       "2     -96.910389  \n",
       "3     -96.910389  \n",
       "4     -96.910389  \n",
       "...          ...  \n",
       "52964 -96.910389  \n",
       "52965 -96.910389  \n",
       "53022 -96.910389  \n",
       "53023 -96.910389  \n",
       "53024 -96.709417  \n",
       "\n",
       "[1141 rows x 10 columns]"
      ]
     },
     "execution_count": 11,
     "metadata": {},
     "output_type": "execute_result"
    }
   ],
   "source": [
    "user1_1 = user1[(user1['DOW'] =='Sat') | (user1['DOW'] =='Sun')]\n",
    "user1_1"
   ]
  },
  {
   "cell_type": "markdown",
   "metadata": {
    "colab_type": "text",
    "collapsed": true,
    "id": "CucWruIbv9HD"
   },
   "source": [
    "**6. Further filter `user1` down for calls that came in either before 6am OR after 10pm (22:00:00).**\n",
    "\n",
    "Even if you didn't convert your times from string objects to time deltas, you can still use `<` and `>` to compare the string times as long as you code them as [military time strings](https://en.wikipedia.org/wiki/24-hour_clock), eg: \"06:00:00\", \"22:00:00\": \n",
    "\n",
    "You may also want to review the Data Manipulation section for this. Once you have your filtered slice, print out its length:"
   ]
  },
  {
   "cell_type": "code",
   "execution_count": 12,
   "metadata": {
    "colab": {},
    "colab_type": "code",
    "id": "Sk11PWsBv9HF"
   },
   "outputs": [
    {
     "data": {
      "text/html": [
       "<div>\n",
       "<style scoped>\n",
       "    .dataframe tbody tr th:only-of-type {\n",
       "        vertical-align: middle;\n",
       "    }\n",
       "\n",
       "    .dataframe tbody tr th {\n",
       "        vertical-align: top;\n",
       "    }\n",
       "\n",
       "    .dataframe thead th {\n",
       "        text-align: right;\n",
       "    }\n",
       "</style>\n",
       "<table border=\"1\" class=\"dataframe\">\n",
       "  <thead>\n",
       "    <tr style=\"text-align: right;\">\n",
       "      <th></th>\n",
       "      <th>In</th>\n",
       "      <th>Out</th>\n",
       "      <th>Direction</th>\n",
       "      <th>CallDate</th>\n",
       "      <th>CallTime</th>\n",
       "      <th>DOW</th>\n",
       "      <th>Duration</th>\n",
       "      <th>TowerID</th>\n",
       "      <th>TowerLat</th>\n",
       "      <th>TowerLon</th>\n",
       "    </tr>\n",
       "  </thead>\n",
       "  <tbody>\n",
       "    <tr>\n",
       "      <th>940</th>\n",
       "      <td>4638472273</td>\n",
       "      <td>6150928001</td>\n",
       "      <td>Incoming</td>\n",
       "      <td>2011-01-08</td>\n",
       "      <td>2020-06-24 22:22:33.693878</td>\n",
       "      <td>Sat</td>\n",
       "      <td>00:00:35.065912</td>\n",
       "      <td>26f7441e-e64b-4b9d-8c5a-0eb34f7e919f</td>\n",
       "      <td>32.731611</td>\n",
       "      <td>-96.709417</td>\n",
       "    </tr>\n",
       "    <tr>\n",
       "      <th>1875</th>\n",
       "      <td>4638472273</td>\n",
       "      <td>2145623768</td>\n",
       "      <td>Incoming</td>\n",
       "      <td>2011-01-22</td>\n",
       "      <td>2020-06-24 22:21:27.466908</td>\n",
       "      <td>Sat</td>\n",
       "      <td>00:03:40.018320</td>\n",
       "      <td>2567c73b-3711-4a31-8683-9d12d56857d8</td>\n",
       "      <td>32.731611</td>\n",
       "      <td>-96.709417</td>\n",
       "    </tr>\n",
       "    <tr>\n",
       "      <th>6949</th>\n",
       "      <td>4638472273</td>\n",
       "      <td>5621270003</td>\n",
       "      <td>Missed</td>\n",
       "      <td>2011-04-09</td>\n",
       "      <td>2020-06-24 22:59:23.206408</td>\n",
       "      <td>Sat</td>\n",
       "      <td>00:03:06.567364</td>\n",
       "      <td>2567c73b-3711-4a31-8683-9d12d56857d8</td>\n",
       "      <td>32.731611</td>\n",
       "      <td>-96.709417</td>\n",
       "    </tr>\n",
       "    <tr>\n",
       "      <th>7468</th>\n",
       "      <td>4638472273</td>\n",
       "      <td>7756914135</td>\n",
       "      <td>Incoming</td>\n",
       "      <td>2011-04-17</td>\n",
       "      <td>2020-06-24 05:15:40.205917</td>\n",
       "      <td>Sun</td>\n",
       "      <td>00:02:09.984993</td>\n",
       "      <td>cd9f3b1a-2eb8-4cdb-86d1-5d4c2740b1dc</td>\n",
       "      <td>32.731722</td>\n",
       "      <td>-96.709500</td>\n",
       "    </tr>\n",
       "    <tr>\n",
       "      <th>9753</th>\n",
       "      <td>4638472273</td>\n",
       "      <td>7922223441</td>\n",
       "      <td>Incoming</td>\n",
       "      <td>2011-05-21</td>\n",
       "      <td>2020-06-24 05:08:20.121145</td>\n",
       "      <td>Sat</td>\n",
       "      <td>00:01:30.059591</td>\n",
       "      <td>0db53dd3-eb9c-4344-abc5-c2d74ebc3eec</td>\n",
       "      <td>32.731611</td>\n",
       "      <td>-96.709417</td>\n",
       "    </tr>\n",
       "  </tbody>\n",
       "</table>\n",
       "</div>"
      ],
      "text/plain": [
       "              In         Out Direction   CallDate                   CallTime  \\\n",
       "940   4638472273  6150928001  Incoming 2011-01-08 2020-06-24 22:22:33.693878   \n",
       "1875  4638472273  2145623768  Incoming 2011-01-22 2020-06-24 22:21:27.466908   \n",
       "6949  4638472273  5621270003    Missed 2011-04-09 2020-06-24 22:59:23.206408   \n",
       "7468  4638472273  7756914135  Incoming 2011-04-17 2020-06-24 05:15:40.205917   \n",
       "9753  4638472273  7922223441  Incoming 2011-05-21 2020-06-24 05:08:20.121145   \n",
       "\n",
       "      DOW        Duration                               TowerID   TowerLat  \\\n",
       "940   Sat 00:00:35.065912  26f7441e-e64b-4b9d-8c5a-0eb34f7e919f  32.731611   \n",
       "1875  Sat 00:03:40.018320  2567c73b-3711-4a31-8683-9d12d56857d8  32.731611   \n",
       "6949  Sat 00:03:06.567364  2567c73b-3711-4a31-8683-9d12d56857d8  32.731611   \n",
       "7468  Sun 00:02:09.984993  cd9f3b1a-2eb8-4cdb-86d1-5d4c2740b1dc  32.731722   \n",
       "9753  Sat 00:01:30.059591  0db53dd3-eb9c-4344-abc5-c2d74ebc3eec  32.731611   \n",
       "\n",
       "       TowerLon  \n",
       "940  -96.709417  \n",
       "1875 -96.709417  \n",
       "6949 -96.709417  \n",
       "7468 -96.709500  \n",
       "9753 -96.709417  "
      ]
     },
     "execution_count": 12,
     "metadata": {},
     "output_type": "execute_result"
    }
   ],
   "source": [
    "user1_2 = user1_1[(user1_1['CallTime']< '06:00:00') | (user1_1['CallTime'] > '22:00:00')]\n",
    "user1_2.head()"
   ]
  },
  {
   "cell_type": "markdown",
   "metadata": {
    "colab_type": "text",
    "id": "UsiUS6znv9HM"
   },
   "source": [
    "**7. Visualize the dataframe with a scatter plot as a sanity check.**\n",
    "\n",
    "Since you're [familiar with maps](https://en.wikipedia.org/wiki/Geographic_coordinate_system#Geographic_latitude_and_longitude), you know well that your X-Coordinate should be Longitude, and your Y coordinate should be the tower Latitude. Check the dataset headers for proper column feature names.\n",
    " \n",
    "At this point, you don't yet know exactly where the user is located just based on the cell phone tower position data; but considering the below are for Calls that arrived in the twilight hours of weekends, it's likely that wherever they are bunched up is probably near where the caller's residence:"
   ]
  },
  {
   "cell_type": "code",
   "execution_count": 13,
   "metadata": {},
   "outputs": [
    {
     "data": {
      "text/plain": [
       "Text(0.5, 1.0, 'Weekend Calls (< 6am or > 10pm) for user 1')"
      ]
     },
     "execution_count": 13,
     "metadata": {},
     "output_type": "execute_result"
    },
    {
     "data": {
      "image/png": "[encoded data removed]",
      "text/plain": [
       "<Figure size 576x360 with 1 Axes>"
      ]
     },
     "metadata": {},
     "output_type": "display_data"
    }
   ],
   "source": [
    "user1_2.plot(kind = 'scatter', x = 'TowerLon', y = 'TowerLat', figsize=(8,5), color = 'darkblue')\n",
    "plt.title(\"Weekend Calls (< 6am or > 10pm) for user 1\")"
   ]
  },
  {
   "cell_type": "markdown",
   "metadata": {
    "colab_type": "text",
    "id": "BkY60K1Wv9Hf"
   },
   "source": [
    "**8. Run K-Means on that dataframe with `K=2` then print out the Cluster Info using clusterInfo function**, with the goal being that one of the centroids will sweep up the annoying outliers; and the other will zero in on the user's approximate home location. Or rather the location of the cell tower closest to their home.....\n",
    "\n",
    "Be sure to only feed in Lat and Lon coordinates to the KMeans algorithm since none of the other data is suitable for your purposes. Since both Lat and Lon are (approximately) on the same scale, no feature scaling is required."
   ]
  },
  {
   "cell_type": "code",
   "execution_count": 14,
   "metadata": {},
   "outputs": [],
   "source": [
    "from sklearn.cluster import KMeans"
   ]
  },
  {
   "cell_type": "code",
   "execution_count": 15,
   "metadata": {},
   "outputs": [],
   "source": [
    "X = user1_2[['TowerLat','TowerLon']]"
   ]
  },
  {
   "cell_type": "code",
   "execution_count": 16,
   "metadata": {},
   "outputs": [
    {
     "data": {
      "text/plain": [
       "array([0, 0, 0, 0, 0, 0, 0, 1, 0, 0, 0, 0, 0, 0, 0, 0, 0, 0, 0, 0, 0, 0,\n",
       "       0, 0, 0, 1, 0, 0])"
      ]
     },
     "execution_count": 16,
     "metadata": {},
     "output_type": "execute_result"
    }
   ],
   "source": [
    "k_means = KMeans(init = 'k-means++', n_clusters = 2, n_init = 12)\n",
    "k_means.fit(X)\n",
    "labels = k_means.labels_\n",
    "labels"
   ]
  },
  {
   "cell_type": "code",
   "execution_count": 17,
   "metadata": {},
   "outputs": [
    {
     "name": "stdout",
     "output_type": "stream",
     "text": [
      "Cluster Analysis Inertia:  1.1304346153788864e-07\n",
      "------------------------------------------\n",
      "\n",
      "  Cluster  0\n",
      "    Centroid  [ 32.73164942 -96.70944573]\n",
      "    #Samples  26\n",
      "\n",
      "  Cluster  1\n",
      "    Centroid  [ 32.750556 -96.694722]\n",
      "    #Samples  2\n"
     ]
    }
   ],
   "source": [
    "clusterInfo(k_means)"
   ]
  },
  {
   "cell_type": "markdown",
   "metadata": {
    "colab_type": "text",
    "id": "LhEFcDGov9H3"
   },
   "source": [
    "**9. Add centroid locations onto your scatter plot. Use a distinguishable marker and color.**\n",
    "\n",
    "Hint: Make sure you graph the CORRECT coordinates. This is part of your domain expertise."
   ]
  },
  {
   "cell_type": "code",
   "execution_count": 18,
   "metadata": {},
   "outputs": [
    {
     "data": {
      "text/plain": [
       "array([[ 32.73164942, -96.70944573],\n",
       "       [ 32.750556  , -96.694722  ]])"
      ]
     },
     "execution_count": 18,
     "metadata": {},
     "output_type": "execute_result"
    }
   ],
   "source": [
    "X_center = k_means.cluster_centers_\n",
    "X_center"
   ]
  },
  {
   "cell_type": "code",
   "execution_count": 19,
   "metadata": {},
   "outputs": [
    {
     "data": {
      "text/plain": [
       "Text(0.5, 1.0, 'Weekend Calls ( <6am or > 10p) for user 1')"
      ]
     },
     "execution_count": 19,
     "metadata": {},
     "output_type": "execute_result"
    },
    {
     "data": {
      "image/png": "[encoded data removed]",
      "text/plain": [
       "<Figure size 432x288 with 1 Axes>"
      ]
     },
     "metadata": {},
     "output_type": "display_data"
    }
   ],
   "source": [
    "plt.scatter(X_center[:,1], X_center[:,0] , marker='X', color = 'r') \n",
    "plt.title(\"Weekend Calls ( <6am or > 10p) for user 1\")"
   ]
  },
  {
   "cell_type": "markdown",
   "metadata": {
    "colab_type": "text",
    "id": "eC2FoHiav9IF"
   },
   "source": [
    "**10. Now that you have a system in place, repeat the above steps (4, 8, and 9) for all 10 individuals in the dataset**. \n",
    "\n",
    "You might want to use a for-loop unless you enjoy copying and pasting:"
   ]
  },
  {
   "cell_type": "code",
   "execution_count": 20,
   "metadata": {
    "colab": {},
    "colab_type": "code",
    "id": "6t_Q12n7v9IG"
   },
   "outputs": [
    {
     "name": "stdout",
     "output_type": "stream",
     "text": [
      "Cluster Analysis Inertia:  1.9522045272845406e-05\n",
      "------------------------------------------\n",
      "\n",
      "  Cluster  0\n",
      "    Centroid  [ 32.86592718 -96.865298  ]\n",
      "    #Samples  22\n",
      "\n",
      "  Cluster  1\n",
      "    Centroid  [ 32.857778 -96.864444]\n",
      "    #Samples  1\n"
     ]
    },
    {
     "name": "stderr",
     "output_type": "stream",
     "text": [
      "C:\\Users\\Admin\\anaconda3\\lib\\site-packages\\ipykernel_launcher.py:8: ConvergenceWarning: Number of distinct clusters (1) found smaller than n_clusters (2). Possibly due to duplicate points in X.\n",
      "  \n",
      "C:\\Users\\Admin\\anaconda3\\lib\\site-packages\\ipykernel_launcher.py:8: ConvergenceWarning: Number of distinct clusters (1) found smaller than n_clusters (2). Possibly due to duplicate points in X.\n",
      "  \n"
     ]
    }
   ],
   "source": [
    "models = []\n",
    "for x in range (len(In_list)):\n",
    "    userX = df[df['In'] == In_list[x]]\n",
    "    userX_1 = userX[(userX['DOW'] =='Sat') | (userX['DOW'] =='Sun')]\n",
    "    userX_2 = userX_1[(userX_1['CallTime']< '06:00:00') | (userX_1['CallTime'] > '22:00:00')]\n",
    "    X1 = userX_2[['TowerLat','TowerLon']]\n",
    "    k_meansX = KMeans(init = 'k-means++', n_clusters = 2, n_init = 12)\n",
    "    k_meansX.fit(X1)\n",
    "    models.append(k_meansX)\n",
    "    \n",
    "clusterInfo(models[2])\n"
   ]
  },
  {
   "cell_type": "markdown",
   "metadata": {
    "colab_type": "text",
    "id": "iCkeuZt7v9IP"
   },
   "source": [
    "**11. Alter your slice from user1, so that it includes only Weekday (Mon-Fri) values and before 5pm:**\n",
    "\n",
    "The idea is that the call was placed before 5pm. From Midnight-730a, the user is probably sleeping and won't call/wake up to take a call. There should be a brief time in the morning during their commute to work, then they'll spend the entire day at work. So the assumption is that most of the time is spent either at work or at the second, at home:\n",
    "        "
   ]
  },
  {
   "cell_type": "code",
   "execution_count": 21,
   "metadata": {
    "colab": {},
    "colab_type": "code",
    "id": "ZWJ7hWgNv9IT"
   },
   "outputs": [
    {
     "data": {
      "text/plain": [
       "(1405, 10)"
      ]
     },
     "execution_count": 21,
     "metadata": {},
     "output_type": "execute_result"
    }
   ],
   "source": [
    "user1_weekdays_daytime = user1[(user1['DOW']!='Sat') & (user1['DOW']!='Sun')]\n",
    "user1_weekdays_daytime = user1_weekdays_daytime[(user1_weekdays_daytime['CallTime']< '17:00:00')]\n",
    "user1_weekdays_daytime.shape"
   ]
  },
  {
   "cell_type": "markdown",
   "metadata": {
    "colab_type": "text",
    "id": "XbnvhPGXv9Im"
   },
   "source": [
    "**12. Plot the Cell Towers the above data frame:**\n"
   ]
  },
  {
   "cell_type": "code",
   "execution_count": 22,
   "metadata": {},
   "outputs": [
    {
     "data": {
      "text/plain": [
       "Text(0.5, 1.0, 'Call Locations for user 1 in working daytimes')"
      ]
     },
     "execution_count": 22,
     "metadata": {},
     "output_type": "execute_result"
    },
    {
     "data": {
      "image/png": "[encoded data removed]",
      "text/plain": [
       "<Figure size 576x360 with 1 Axes>"
      ]
     },
     "metadata": {},
     "output_type": "display_data"
    }
   ],
   "source": [
    "user1_weekdays_daytime.plot(kind = 'scatter', x = 'TowerLon', y = 'TowerLat', figsize = (8,5), color ='darkblue')\n",
    "plt.title(\"Call Locations for user 1 in working daytimes\")"
   ]
  },
  {
   "cell_type": "markdown",
   "metadata": {
    "colab_type": "text",
    "id": "ubsPdzlMv9Iv"
   },
   "source": [
    "**13. Complete the doKmeans function:**"
   ]
  },
  {
   "cell_type": "code",
   "execution_count": 23,
   "metadata": {},
   "outputs": [],
   "source": [
    "def doKMeans(data, num_clusters=0):\n",
    "    model = KMeans(init = \"k-means++\", n_clusters = num_clusters, n_init = 12)\n",
    "    model.fit(data)\n",
    "    return model"
   ]
  },
  {
   "cell_type": "code",
   "execution_count": 24,
   "metadata": {},
   "outputs": [],
   "source": [
    "Y = user1_weekdays_daytime[['TowerLat','TowerLon']]"
   ]
  },
  {
   "cell_type": "markdown",
   "metadata": {
    "colab_type": "text",
    "id": "ISnaCVVKv9I0"
   },
   "source": [
    "**14. Let's tun K-Means with `K=3`using doKMeans function for that dataframe (user1 on weekdays in daytime). Then print out the cluster info using clusterInfo function:**\n",
    "\n",
    "There should only be two areas of concentration. If you notice multiple areas that are \"hot\" (multiple areas the user spends a lot of time at that are FAR apart from one another)."
   ]
  },
  {
   "cell_type": "code",
   "execution_count": 25,
   "metadata": {},
   "outputs": [],
   "source": [
    "k_means3 = doKMeans(Y,3)"
   ]
  },
  {
   "cell_type": "code",
   "execution_count": 26,
   "metadata": {},
   "outputs": [
    {
     "name": "stdout",
     "output_type": "stream",
     "text": [
      "Cluster Analysis Inertia:  0.15891069523780382\n",
      "------------------------------------------\n",
      "\n",
      "  Cluster  0\n",
      "    Centroid  [ 32.9000009  -96.90951639]\n",
      "    #Samples  959\n",
      "\n",
      "  Cluster  1\n",
      "    Centroid  [ 32.73323174 -96.70816184]\n",
      "    #Samples  306\n",
      "\n",
      "  Cluster  2\n",
      "    Centroid  [ 32.86348712 -96.83818346]\n",
      "    #Samples  140\n"
     ]
    }
   ],
   "source": [
    "labels3 = k_means3.labels_\n",
    "clusterInfo(k_means3)"
   ]
  },
  {
   "cell_type": "markdown",
   "metadata": {
    "colab_type": "text",
    "id": "gJLSYUYav9I-"
   },
   "source": [
    "**15. Print out the mean `CallTime` value for the samples belonging to the cluster with the LEAST samples attached to it.** \n",
    "\n",
    "If our logic is correct, the cluster with the MOST samples will be work. The cluster with the 2nd most samples will be home. And the `K=3` cluster with the least samples should be somewhere in between the two. What time, on average, is the user in between home and work, between midnight and 5pm?"
   ]
  },
  {
   "cell_type": "code",
   "execution_count": 27,
   "metadata": {},
   "outputs": [],
   "source": [
    "import numpy as np\n",
    "Y1 = Y.copy()\n",
    "Y1['CallTime']= user1_weekdays_daytime['CallTime']\n",
    "Y1['Label'] = labels3\n",
    "Y1['Duration']= user1_weekdays_daytime['Duration']\n",
    "Y1['Duration']= pd.to_timedelta(Y1['Duration'])"
   ]
  },
  {
   "cell_type": "code",
   "execution_count": 30,
   "metadata": {},
   "outputs": [
    {
     "data": {
      "text/html": [
       "<div>\n",
       "<style scoped>\n",
       "    .dataframe tbody tr th:only-of-type {\n",
       "        vertical-align: middle;\n",
       "    }\n",
       "\n",
       "    .dataframe tbody tr th {\n",
       "        vertical-align: top;\n",
       "    }\n",
       "\n",
       "    .dataframe thead th {\n",
       "        text-align: right;\n",
       "    }\n",
       "</style>\n",
       "<table border=\"1\" class=\"dataframe\">\n",
       "  <thead>\n",
       "    <tr style=\"text-align: right;\">\n",
       "      <th></th>\n",
       "      <th>TowerLat</th>\n",
       "      <th>TowerLon</th>\n",
       "      <th>CallTime</th>\n",
       "      <th>Label</th>\n",
       "      <th>Duration</th>\n",
       "    </tr>\n",
       "  </thead>\n",
       "  <tbody>\n",
       "    <tr>\n",
       "      <th>197</th>\n",
       "      <td>32.899944</td>\n",
       "      <td>-96.910389</td>\n",
       "      <td>2020-06-24 16:20:11.532130</td>\n",
       "      <td>0</td>\n",
       "      <td>00:03:56.069765</td>\n",
       "    </tr>\n",
       "    <tr>\n",
       "      <th>200</th>\n",
       "      <td>32.899944</td>\n",
       "      <td>-96.910389</td>\n",
       "      <td>2020-06-24 15:27:51.105337</td>\n",
       "      <td>0</td>\n",
       "      <td>00:03:30.047757</td>\n",
       "    </tr>\n",
       "    <tr>\n",
       "      <th>248</th>\n",
       "      <td>32.899944</td>\n",
       "      <td>-96.910389</td>\n",
       "      <td>2020-06-24 09:13:35.198987</td>\n",
       "      <td>0</td>\n",
       "      <td>00:02:10.574446</td>\n",
       "    </tr>\n",
       "    <tr>\n",
       "      <th>249</th>\n",
       "      <td>32.731611</td>\n",
       "      <td>-96.709417</td>\n",
       "      <td>2020-06-24 06:02:11.319738</td>\n",
       "      <td>1</td>\n",
       "      <td>00:04:34.436752</td>\n",
       "    </tr>\n",
       "    <tr>\n",
       "      <th>250</th>\n",
       "      <td>32.899944</td>\n",
       "      <td>-96.910389</td>\n",
       "      <td>2020-06-24 13:54:14.724722</td>\n",
       "      <td>0</td>\n",
       "      <td>00:03:31.297111</td>\n",
       "    </tr>\n",
       "    <tr>\n",
       "      <th>...</th>\n",
       "      <td>...</td>\n",
       "      <td>...</td>\n",
       "      <td>...</td>\n",
       "      <td>...</td>\n",
       "      <td>...</td>\n",
       "    </tr>\n",
       "    <tr>\n",
       "      <th>53091</th>\n",
       "      <td>32.899944</td>\n",
       "      <td>-96.910389</td>\n",
       "      <td>2020-06-24 16:55:01.129212</td>\n",
       "      <td>0</td>\n",
       "      <td>00:02:48.163010</td>\n",
       "    </tr>\n",
       "    <tr>\n",
       "      <th>53138</th>\n",
       "      <td>32.731722</td>\n",
       "      <td>-96.709500</td>\n",
       "      <td>2020-06-24 07:28:38.486982</td>\n",
       "      <td>1</td>\n",
       "      <td>00:03:51.307727</td>\n",
       "    </tr>\n",
       "    <tr>\n",
       "      <th>53140</th>\n",
       "      <td>32.899944</td>\n",
       "      <td>-96.910389</td>\n",
       "      <td>2020-06-24 11:26:01.888502</td>\n",
       "      <td>0</td>\n",
       "      <td>00:03:08.177065</td>\n",
       "    </tr>\n",
       "    <tr>\n",
       "      <th>53143</th>\n",
       "      <td>32.864167</td>\n",
       "      <td>-96.836944</td>\n",
       "      <td>2020-06-24 07:50:41.435642</td>\n",
       "      <td>2</td>\n",
       "      <td>00:04:04.460385</td>\n",
       "    </tr>\n",
       "    <tr>\n",
       "      <th>53144</th>\n",
       "      <td>32.881111</td>\n",
       "      <td>-96.856389</td>\n",
       "      <td>2020-06-24 07:49:56.273334</td>\n",
       "      <td>2</td>\n",
       "      <td>00:01:35.016406</td>\n",
       "    </tr>\n",
       "  </tbody>\n",
       "</table>\n",
       "<p>1405 rows × 5 columns</p>\n",
       "</div>"
      ],
      "text/plain": [
       "        TowerLat   TowerLon                   CallTime  Label        Duration\n",
       "197    32.899944 -96.910389 2020-06-24 16:20:11.532130      0 00:03:56.069765\n",
       "200    32.899944 -96.910389 2020-06-24 15:27:51.105337      0 00:03:30.047757\n",
       "248    32.899944 -96.910389 2020-06-24 09:13:35.198987      0 00:02:10.574446\n",
       "249    32.731611 -96.709417 2020-06-24 06:02:11.319738      1 00:04:34.436752\n",
       "250    32.899944 -96.910389 2020-06-24 13:54:14.724722      0 00:03:31.297111\n",
       "...          ...        ...                        ...    ...             ...\n",
       "53091  32.899944 -96.910389 2020-06-24 16:55:01.129212      0 00:02:48.163010\n",
       "53138  32.731722 -96.709500 2020-06-24 07:28:38.486982      1 00:03:51.307727\n",
       "53140  32.899944 -96.910389 2020-06-24 11:26:01.888502      0 00:03:08.177065\n",
       "53143  32.864167 -96.836944 2020-06-24 07:50:41.435642      2 00:04:04.460385\n",
       "53144  32.881111 -96.856389 2020-06-24 07:49:56.273334      2 00:01:35.016406\n",
       "\n",
       "[1405 rows x 5 columns]"
      ]
     },
     "execution_count": 30,
     "metadata": {},
     "output_type": "execute_result"
    }
   ],
   "source": [
    "Y1"
   ]
  },
  {
   "cell_type": "code",
   "execution_count": 31,
   "metadata": {},
   "outputs": [
    {
     "name": "stdout",
     "output_type": "stream",
     "text": [
      "Cluster With Fewest Samples:  2\n",
      "Its Waypoint Time:  0 days 07:36:37.580587\n"
     ]
    }
   ],
   "source": [
    "# tim ra cluster co so samples nho nhat\n",
    "# tao mot dictionary Samples, roi tinh tong cac sample trong 1 cluster, add vao dic\n",
    "Samples = {}\n",
    "for i in range(len(k_means3.cluster_centers_)):\n",
    "    S = (k_means3.labels_==i).sum()\n",
    "    Samples[i] = S\n",
    "# sample min\n",
    "sam_min = min(Samples.values())\n",
    "# cluster min\n",
    "clu_min = list(Samples.keys())[list(Samples.values()).index(sam_min)]\n",
    "print('Cluster With Fewest Samples: ', clu_min)\n",
    "# tinh tong duration cua cluster min\n",
    "Y2 = Y1[Y1['Label'] == clu_min]\n",
    "dura_min = Y2['Duration'].sum()\n",
    "print('Its Waypoint Time: ', dura_min)"
   ]
  },
  {
   "cell_type": "code",
   "execution_count": 32,
   "metadata": {},
   "outputs": [
    {
     "name": "stdout",
     "output_type": "stream",
     "text": [
      "[(2, 140), (1, 306), (0, 959)]\n"
     ]
    }
   ],
   "source": [
    "a = sorted(Samples.items(), key=lambda x: x[1])    \n",
    "print(a)"
   ]
  },
  {
   "cell_type": "code",
   "execution_count": 33,
   "metadata": {},
   "outputs": [
    {
     "data": {
      "text/plain": [
       "140"
      ]
     },
     "execution_count": 33,
     "metadata": {},
     "output_type": "execute_result"
    }
   ],
   "source": [
    "a[0][1]"
   ]
  },
  {
   "cell_type": "code",
   "execution_count": 34,
   "metadata": {},
   "outputs": [
    {
     "data": {
      "text/plain": [
       "Timedelta('0 days 07:36:37.580587')"
      ]
     },
     "execution_count": 34,
     "metadata": {},
     "output_type": "execute_result"
    }
   ],
   "source": [
    "Y2 = Y1[Y1['Label'] == clu_min]\n",
    "Y2['Duration'].sum()"
   ]
  },
  {
   "cell_type": "markdown",
   "metadata": {
    "colab_type": "text",
    "id": "O6b2Ypd5v9JE"
   },
   "source": [
    "**16. Let's visualize the results by drawing the X's for the cluster centers combined with location plot:**\n"
   ]
  },
  {
   "cell_type": "code",
   "execution_count": 35,
   "metadata": {},
   "outputs": [
    {
     "data": {
      "text/plain": [
       "<matplotlib.axes._subplots.AxesSubplot at 0x109c2ed0508>"
      ]
     },
     "execution_count": 35,
     "metadata": {},
     "output_type": "execute_result"
    },
    {
     "data": {
      "image/png": "[encoded data removed]",
      "text/plain": [
       "<Figure size 576x360 with 1 Axes>"
      ]
     },
     "metadata": {},
     "output_type": "display_data"
    }
   ],
   "source": [
    "Y1.plot(kind ='scatter', x='TowerLon', y= 'TowerLat', figsize =(8,5), color = 'darkblue')\n"
   ]
  },
  {
   "cell_type": "code",
   "execution_count": 36,
   "metadata": {},
   "outputs": [
    {
     "data": {
      "text/plain": [
       "array([[ 32.9000009 , -96.90951639],\n",
       "       [ 32.73323174, -96.70816184],\n",
       "       [ 32.86348712, -96.83818346]])"
      ]
     },
     "execution_count": 36,
     "metadata": {},
     "output_type": "execute_result"
    }
   ],
   "source": [
    "cluster_center = k_means3.cluster_centers_\n",
    "cluster_center"
   ]
  },
  {
   "cell_type": "code",
   "execution_count": 37,
   "metadata": {},
   "outputs": [
    {
     "data": {
      "text/plain": [
       "<matplotlib.collections.PathCollection at 0x109c3036e08>"
      ]
     },
     "execution_count": 37,
     "metadata": {},
     "output_type": "execute_result"
    },
    {
     "data": {
      "image/png": "[encoded data removed]",
      "text/plain": [
       "<Figure size 432x288 with 1 Axes>"
      ]
     },
     "metadata": {},
     "output_type": "display_data"
    }
   ],
   "source": [
    "plt.plot(Y1['TowerLon'], Y1['TowerLat'], color= 'darkgreen', marker='o',ls='None')\n",
    "plt.scatter(cluster_center[:,1], cluster_center[:,0],  marker=\"X\", color='r', s=150)"
   ]
  },
  {
   "cell_type": "markdown",
   "metadata": {
    "colab_type": "text",
    "id": "FaNcftFDv9JJ"
   },
   "source": [
    "# Adanved part (15%  of the total score)"
   ]
  },
  {
   "cell_type": "markdown",
   "metadata": {
    "colab_type": "text",
    "id": "Afd5uqJav9JK"
   },
   "source": [
    "**17. Now that you have a system in place, repeat the the steps 12, 14 and 16 for all 10 individuals in the dataset.**"
   ]
  },
  {
   "cell_type": "code",
   "execution_count": 38,
   "metadata": {
    "colab": {},
    "colab_type": "code",
    "id": "Q9WGzZJDv9JL"
   },
   "outputs": [
    {
     "name": "stdout",
     "output_type": "stream",
     "text": [
      "Cluster Analysis Inertia:  0.24673904238447752\n",
      "------------------------------------------\n",
      "\n",
      "  Cluster  0\n",
      "    Centroid  [ 32.72097347 -96.83039184]\n",
      "    #Samples  1648\n",
      "\n",
      "  Cluster  1\n",
      "    Centroid  [ 32.703056 -96.604444]\n",
      "    #Samples  392\n",
      "\n",
      "  Cluster  2\n",
      "    Centroid  [ 32.71410598 -96.75520357]\n",
      "    #Samples  254\n"
     ]
    },
    {
     "data": {
      "text/plain": [
       "<matplotlib.collections.PathCollection at 0x109c30bda08>"
      ]
     },
     "execution_count": 38,
     "metadata": {},
     "output_type": "execute_result"
    },
    {
     "data": {
      "image/png": "[encoded data removed]",
      "text/plain": [
       "<Figure size 432x288 with 1 Axes>"
      ]
     },
     "metadata": {},
     "output_type": "display_data"
    }
   ],
   "source": [
    "modelsY = []\n",
    "Y_data = []\n",
    "cluster_centerY = 0\n",
    "for y in range (len(In_list)):\n",
    "    userY = df[df['In'] == In_list[y]]\n",
    "    userY_weekdays_daytime = userY[(userY['DOW']!='Sat') & (userY['DOW']!='Sun')]\n",
    "    userY_weekdays_daytime = userY_weekdays_daytime[(userY_weekdays_daytime['CallTime']< '17:00:00')]\n",
    "    Y_1 = userY_weekdays_daytime[['TowerLat','TowerLon']]\n",
    "    Y_data.append(Y_1)\n",
    "    k_meansY = KMeans(init = 'k-means++', n_clusters = 3, n_init = 12)\n",
    "    k_meansY.fit(Y_1)\n",
    "    modelsY.append(k_meansY)\n",
    "n = 7\n",
    "Y_2 = Y_data[n]    \n",
    "m = modelsY[n]\n",
    "labelsY = m.labels_\n",
    "cluster_centerY = m.cluster_centers_\n",
    "clusterInfo(m)\n",
    "plt.plot(Y_2['TowerLon'], Y_2['TowerLat'], color= 'darkgreen', marker='o',ls='None')\n",
    "plt.scatter(cluster_centerY[:,1], cluster_centerY[:,0],  marker=\"X\", color='r', s=150)"
   ]
  },
  {
   "cell_type": "code",
   "execution_count": 39,
   "metadata": {},
   "outputs": [
    {
     "data": {
      "text/html": [
       "<div>\n",
       "<style scoped>\n",
       "    .dataframe tbody tr th:only-of-type {\n",
       "        vertical-align: middle;\n",
       "    }\n",
       "\n",
       "    .dataframe tbody tr th {\n",
       "        vertical-align: top;\n",
       "    }\n",
       "\n",
       "    .dataframe thead th {\n",
       "        text-align: right;\n",
       "    }\n",
       "</style>\n",
       "<table border=\"1\" class=\"dataframe\">\n",
       "  <thead>\n",
       "    <tr style=\"text-align: right;\">\n",
       "      <th></th>\n",
       "      <th>TowerLat</th>\n",
       "      <th>TowerLon</th>\n",
       "    </tr>\n",
       "  </thead>\n",
       "  <tbody>\n",
       "    <tr>\n",
       "      <th>182</th>\n",
       "      <td>32.720833</td>\n",
       "      <td>-96.832222</td>\n",
       "    </tr>\n",
       "    <tr>\n",
       "      <th>183</th>\n",
       "      <td>32.720833</td>\n",
       "      <td>-96.832222</td>\n",
       "    </tr>\n",
       "    <tr>\n",
       "      <th>184</th>\n",
       "      <td>32.720833</td>\n",
       "      <td>-96.832222</td>\n",
       "    </tr>\n",
       "    <tr>\n",
       "      <th>185</th>\n",
       "      <td>32.708333</td>\n",
       "      <td>-96.749167</td>\n",
       "    </tr>\n",
       "    <tr>\n",
       "      <th>270</th>\n",
       "      <td>32.720833</td>\n",
       "      <td>-96.832222</td>\n",
       "    </tr>\n",
       "    <tr>\n",
       "      <th>...</th>\n",
       "      <td>...</td>\n",
       "      <td>...</td>\n",
       "    </tr>\n",
       "    <tr>\n",
       "      <th>53155</th>\n",
       "      <td>32.720833</td>\n",
       "      <td>-96.832222</td>\n",
       "    </tr>\n",
       "    <tr>\n",
       "      <th>53156</th>\n",
       "      <td>32.723056</td>\n",
       "      <td>-96.760583</td>\n",
       "    </tr>\n",
       "    <tr>\n",
       "      <th>53158</th>\n",
       "      <td>32.720833</td>\n",
       "      <td>-96.832222</td>\n",
       "    </tr>\n",
       "    <tr>\n",
       "      <th>53159</th>\n",
       "      <td>32.726556</td>\n",
       "      <td>-96.811472</td>\n",
       "    </tr>\n",
       "    <tr>\n",
       "      <th>53161</th>\n",
       "      <td>32.720833</td>\n",
       "      <td>-96.832222</td>\n",
       "    </tr>\n",
       "  </tbody>\n",
       "</table>\n",
       "<p>2294 rows × 2 columns</p>\n",
       "</div>"
      ],
      "text/plain": [
       "        TowerLat   TowerLon\n",
       "182    32.720833 -96.832222\n",
       "183    32.720833 -96.832222\n",
       "184    32.720833 -96.832222\n",
       "185    32.708333 -96.749167\n",
       "270    32.720833 -96.832222\n",
       "...          ...        ...\n",
       "53155  32.720833 -96.832222\n",
       "53156  32.723056 -96.760583\n",
       "53158  32.720833 -96.832222\n",
       "53159  32.726556 -96.811472\n",
       "53161  32.720833 -96.832222\n",
       "\n",
       "[2294 rows x 2 columns]"
      ]
     },
     "execution_count": 39,
     "metadata": {},
     "output_type": "execute_result"
    }
   ],
   "source": [
    "Y_2"
   ]
  }
 ],
 "metadata": {
  "colab": {
   "collapsed_sections": [],
   "name": "DSP303x_01_EN_3_Starter_Code.ipynb",
   "provenance": [],
   "version": "0.3.2"
  },
  "kernelspec": {
   "display_name": "Python 3",
   "language": "python",
   "name": "python3"
  },
  "language_info": {
   "codemirror_mode": {
    "name": "ipython",
    "version": 3
   },
   "file_extension": ".py",
   "mimetype": "text/x-python",
   "name": "python",
   "nbconvert_exporter": "python",
   "pygments_lexer": "ipython3",
   "version": "3.7.6"
  }
 },
 "nbformat": 4,
 "nbformat_minor": 1
}
